{
 "cells": [
  {
   "cell_type": "markdown",
   "id": "srMvuj6vCej9",
   "metadata": {
    "id": "srMvuj6vCej9"
   },
   "source": [
    "# MSBD5001-Spring 2022\n",
    "\n",
    "Predicting pneumonia in kidney transplant recipients\n",
    "\n",
    "https://www.kaggle.com/c/msbd5001-spring-2022/overview\n",
    "\n",
    "---\n",
    "\n",
    "\n",
    "## Description\n",
    "\n",
    "Kidney transplantation is the optimal treatment to cure patients with end-stage renal disease (ESRD). However, infectious complication, especially pneumonia, is the main cause of mortality in the early stage. In this in-class competition, we aimed to study the association between collected patient immune status features during immune monitoring and pneumonia in kidney transplant patients through machine learning models.\n",
    "\n",
    "The immune status features consist of the percentages and absolute cell counts of CD3+CD4+ T cells, CD3+CD8+ T cells, CD19+ B cells and natural killer (NK) cells, and median fluorescence intensity (MFI) of human leukocyte antigen (HLA)-DR on monocytes and CD64 on neutrophils. Also, basic information including age and sex is provided. The task is to predict whether the patient will get pneumonia after the kidney transplantation.\n",
    "\n",
    "---\n",
    "## Dataset information\n",
    "\n",
    "xxxxxx\n",
    "\n",
    "---\n",
    "## ML problem definition\n",
    "\n",
    "Multi-class classification\n",
    "\n",
    "---\n",
    "\n",
    "## Evaluation Metric\n",
    "\n",
    "The evaluation metric used is prediction accuracy."
   ]
  },
  {
   "cell_type": "markdown",
   "id": "5034493c",
   "metadata": {
    "id": "5034493c"
   },
   "source": [
    "# Classifiers: (1) Decision Tree, (2) KNN and (3) Random Forest\n"
   ]
  },
  {
   "cell_type": "markdown",
   "id": "uT-JLiP-7-7K",
   "metadata": {
    "id": "uT-JLiP-7-7K"
   },
   "source": [
    "# Download data"
   ]
  },
  {
   "cell_type": "code",
   "execution_count": 1,
   "id": "a0msL-s17-sx",
   "metadata": {
    "ExecuteTime": {
     "end_time": "2022-04-05T11:46:54.035756Z",
     "start_time": "2022-04-05T11:46:53.999443Z"
    },
    "colab": {
     "base_uri": "https://localhost:8080/"
    },
    "executionInfo": {
     "elapsed": 470,
     "status": "ok",
     "timestamp": 1649158352165,
     "user": {
      "displayName": "msc work",
      "userId": "10004626043936594729"
     },
     "user_tz": -480
    },
    "id": "a0msL-s17-sx",
    "outputId": "6158e6e7-8122-4a13-a245-85881dcb0c10"
   },
   "outputs": [],
   "source": [
    "# # find the share link of the file/folder on Google Drive\n",
    "# file_share_links = [\n",
    "#                     \"https://drive.google.com/file/d/1pP81aU-10NWzVNbNnQUDvCeSrBLOkcWw/view?usp=sharing\",   #sample_submission.csv\n",
    "#                     \"https://drive.google.com/file/d/1UEZzWcKk_QaHWzDMl6XdWGJLgkhiguj-/view?usp=sharing\",   #test.csv\n",
    "#                     \"https://drive.google.com/file/d/1L7AYTx15-AQ2nXAuXm7hLC9HDvpKJCGw/view?usp=sharing\",   #train.csv\n",
    "# ]\n",
    "\n",
    "# for file_share_link in file_share_links:\n",
    "#     # extract the ID of the file\n",
    "#     file_id = file_share_link[file_share_link.find(\"d/\") + 2: file_share_link.find('/view')]\n",
    "#     print(file_id)\n",
    "\n",
    "#     # append the id to this REST command\n",
    "#     file_download_link = \"https://docs.google.com/uc?export=download&id=\" + file_id\n",
    "#     print(file_download_link)\n"
   ]
  },
  {
   "cell_type": "code",
   "execution_count": 2,
   "id": "UVl523f89Mz2",
   "metadata": {
    "ExecuteTime": {
     "end_time": "2022-04-05T11:46:54.050030Z",
     "start_time": "2022-04-05T11:46:54.044406Z"
    },
    "colab": {
     "base_uri": "https://localhost:8080/"
    },
    "executionInfo": {
     "elapsed": 1844,
     "status": "ok",
     "timestamp": 1649158354424,
     "user": {
      "displayName": "msc work",
      "userId": "10004626043936594729"
     },
     "user_tz": -480
    },
    "id": "UVl523f89Mz2",
    "outputId": "15ad310d-5b99-463d-905e-6f0f07600ff7"
   },
   "outputs": [],
   "source": [
    "# !wget -O sample_submission.csv \"https://docs.google.com/uc?export=download&id=1pP81aU-10NWzVNbNnQUDvCeSrBLOkcWw\"\n",
    "# !wget -O test.csv \"https://docs.google.com/uc?export=download&id=1UEZzWcKk_QaHWzDMl6XdWGJLgkhiguj-\"\n",
    "# !wget -O train.csv \"https://docs.google.com/uc?export=download&id=1L7AYTx15-AQ2nXAuXm7hLC9HDvpKJCGw\""
   ]
  },
  {
   "cell_type": "markdown",
   "id": "e7160ad9",
   "metadata": {
    "id": "e7160ad9"
   },
   "source": [
    "# Setup"
   ]
  },
  {
   "cell_type": "code",
   "execution_count": 3,
   "id": "7a2f68fb",
   "metadata": {
    "ExecuteTime": {
     "end_time": "2022-04-05T11:46:57.615813Z",
     "start_time": "2022-04-05T11:46:54.054586Z"
    },
    "executionInfo": {
     "elapsed": 144,
     "status": "ok",
     "timestamp": 1649158354427,
     "user": {
      "displayName": "msc work",
      "userId": "10004626043936594729"
     },
     "user_tz": -480
    },
    "id": "7a2f68fb"
   },
   "outputs": [],
   "source": [
    "import os\n",
    "import time\n",
    "from typing import Iterable\n",
    "\n",
    "import numpy as np\n",
    "import pandas as pd\n",
    "import seaborn as sb\n",
    "import matplotlib.pyplot as plt\n",
    "\n",
    "# save scikit-learn model\n",
    "from joblib import dump, load\n",
    "# import pickle\n",
    "\n",
    "\n",
    "from sklearn.metrics import confusion_matrix\n",
    "from sklearn.metrics import classification_report\n",
    "from sklearn.metrics import precision_score, recall_score, f1_score, accuracy_score\n",
    "\n",
    "#Split data\n",
    "from sklearn.model_selection import train_test_split\n",
    "\n",
    "from sklearn.preprocessing import MinMaxScaler\n",
    "#Grid Search with Cross Validation\n",
    "from sklearn.model_selection import GridSearchCV\n",
    "\n",
    "# decision tree\n",
    "from sklearn.tree import DecisionTreeClassifier\n",
    "\n",
    "# knn\n",
    "from sklearn.neighbors import KNeighborsClassifier\n",
    "\n",
    "# random forest\n",
    "from sklearn.ensemble import RandomForestClassifier"
   ]
  },
  {
   "cell_type": "markdown",
   "id": "9e0f3b3b",
   "metadata": {
    "id": "9e0f3b3b"
   },
   "source": [
    "# Data preparation"
   ]
  },
  {
   "cell_type": "code",
   "execution_count": 4,
   "id": "5bA0CXcPIdrp",
   "metadata": {
    "ExecuteTime": {
     "end_time": "2022-04-05T11:46:57.682946Z",
     "start_time": "2022-04-05T11:46:57.618327Z"
    },
    "colab": {
     "base_uri": "https://localhost:8080/"
    },
    "executionInfo": {
     "elapsed": 170,
     "status": "ok",
     "timestamp": 1649158354455,
     "user": {
      "displayName": "msc work",
      "userId": "10004626043936594729"
     },
     "user_tz": -480
    },
    "id": "5bA0CXcPIdrp",
    "outputId": "963499cd-35f9-4480-869f-facc1762bcf0"
   },
   "outputs": [
    {
     "name": "stdout",
     "output_type": "stream",
     "text": [
      "1.1(done)-msbd5001-kaggle-decisionTree-knn-RF.ipynb\n",
      "1.2(done)-msbd5001-kaggle-pycaret.ipynb\n",
      "2(done)-msbd5001-kaggle-test-models.ipynb\n",
      "README.md\n",
      "models.zip\n",
      "sample_submission.csv\n",
      "stacker_auc1.pkl\n",
      "test.csv\n",
      "train.csv\n",
      "id,MO HLADR+ MFI (cells/ul),Neu CD64+MFI (cells/ul),CD3+T (cells/ul),CD8+T (cells/ul),CD4+T (cells/ul),NK (cells/ul),CD19+ (cells/ul),CD45+ (cells/ul),Age,Sex 0M1F,Mono CD64+MFI (cells/ul),label\n",
      "0,3556.0,2489.0,265.19,77.53,176.55,0.0,4.2,307.91,52,0,7515.0,1\n",
      "1,1906.0,134.0,1442.61,551.9,876.07,112.1,168.15,1735.48,20,1,1756.0,0\n",
      "2,1586.0,71.0,1332.74,684.2,655.26,244.95,216.52,1820.04,28,1,1311.0,0\n",
      "3,683.0,94.0,419.23,255.8,162.17,72.05,44.68,538.22,55,1,1443.0,0\n",
      "id,MO HLADR+ MFI (cells/ul),Neu CD64+MFI (cells/ul),CD3+T (cells/ul),CD8+T (cells/ul),CD4+T (cells/ul),NK (cells/ul),CD19+ (cells/ul),CD45+ (cells/ul),Age,Sex 0M1F,Mono CD64+MFI (cells/ul)\n",
      "0,2843.0,156.0,1358.52,730.78,637.85,127.06,94.82,1588.62,45,1,3256.0\n",
      "1,437.0,137.0,509.43,268.05,243.07,390.86,98.24,1002.76,51,1,491.0\n",
      "2,826.0,82.0,1232.22,493.42,744.08,516.28,320.15,2200.58,32,0,1381.0\n",
      "3,861.0,50.0,1512.86,925.51,590.07,380.25,25.8,1929.1,50,0,1377.0\n",
      "id,label\n",
      "0,0\n",
      "1,0\n",
      "2,0\n",
      "3,0\n"
     ]
    }
   ],
   "source": [
    "%%sh\n",
    "ls\n",
    "\n",
    "head -n 5 train.csv\n",
    "head -n 5 test.csv\n",
    "head -n 5 sample_submission.csv\n"
   ]
  },
  {
   "cell_type": "code",
   "execution_count": 5,
   "id": "fe84e595",
   "metadata": {
    "ExecuteTime": {
     "end_time": "2022-04-05T11:46:57.708015Z",
     "start_time": "2022-04-05T11:46:57.685929Z"
    },
    "colab": {
     "base_uri": "https://localhost:8080/"
    },
    "executionInfo": {
     "elapsed": 168,
     "status": "ok",
     "timestamp": 1649158354459,
     "user": {
      "displayName": "msc work",
      "userId": "10004626043936594729"
     },
     "user_tz": -480
    },
    "id": "fe84e595",
    "outputId": "1137e86d-be26-4e90-a890-640fbe42cb99",
    "scrolled": true
   },
   "outputs": [
    {
     "name": "stdout",
     "output_type": "stream",
     "text": [
      "Classes/Labels of dataset (column: label): [0.0, 1.0]\n",
      "row_index_name: id\n",
      "label_name: label\n",
      "feature columns: ['MO_HLADR_MFI_cellsul', 'Neu_CD64MFI_cellsul', 'CD3T_cellsul', 'CD8T_cellsul', 'CD4T_cellsul', 'NK_cellsul', 'CD19_cellsul', 'CD45_cellsul', 'Age', 'Sex_0M1F', 'Mono_CD64MFI_cellsul']\n",
      "train.shape = (87,)\n",
      "test.shape = (59,)\n"
     ]
    }
   ],
   "source": [
    "folder_models = 'models'\n",
    "folder_data = ''\n",
    "path_train = folder_data + 'train.csv'\n",
    "path_test = folder_data + 'test.csv'\n",
    "\n",
    "\n",
    "#read train data\n",
    "train = np.genfromtxt(path_train, delimiter=',', names=True, dtype=float)\n",
    "\n",
    "row_index_name = 'id'\n",
    "label_name = 'label'\n",
    "feature_names = [x for x in train.dtype.names if (x != label_name) & (x != row_index_name)]\n",
    "\n",
    "# train_x = train[feature_names].tolist()\n",
    "# train_y = train[label_name].tolist()\n",
    "\n",
    "\n",
    "#read test data\n",
    "test = np.genfromtxt(path_test, delimiter=',', names=True, dtype=float)\n",
    "\n",
    "# test_x = test[feature_names].tolist()\n",
    "# test_y = test[label_name].tolist()\n",
    "\n",
    "\n",
    "#class labels\n",
    "labels = list(set(train[label_name]))\n",
    "print(f'Classes/Labels of dataset (column: {label_name}):', labels)\n",
    "\n",
    "\n",
    "# View\n",
    "print(f'row_index_name: {row_index_name}')\n",
    "print(f'label_name: {label_name}')\n",
    "print(f'feature columns: {feature_names}')\n",
    "\n",
    "# print(test_x[:5])\n",
    "# print('labels of test data:', test_y[:5])\n",
    "\n",
    "print('train.shape =', train.shape)\n",
    "print('test.shape =', test.shape)\n"
   ]
  },
  {
   "cell_type": "code",
   "execution_count": 6,
   "id": "da29f3e5",
   "metadata": {
    "ExecuteTime": {
     "end_time": "2022-04-05T11:46:57.854250Z",
     "start_time": "2022-04-05T11:46:57.719942Z"
    },
    "colab": {
     "base_uri": "https://localhost:8080/",
     "height": 1000
    },
    "executionInfo": {
     "elapsed": 165,
     "status": "ok",
     "timestamp": 1649158354459,
     "user": {
      "displayName": "msc work",
      "userId": "10004626043936594729"
     },
     "user_tz": -480
    },
    "id": "da29f3e5",
    "outputId": "ac95b6a0-110a-4fcd-fe5e-f201c1e0e33e"
   },
   "outputs": [
    {
     "data": {
      "text/html": [
       "<div>\n",
       "<style scoped>\n",
       "    .dataframe tbody tr th:only-of-type {\n",
       "        vertical-align: middle;\n",
       "    }\n",
       "\n",
       "    .dataframe tbody tr th {\n",
       "        vertical-align: top;\n",
       "    }\n",
       "\n",
       "    .dataframe thead th {\n",
       "        text-align: right;\n",
       "    }\n",
       "</style>\n",
       "<table border=\"1\" class=\"dataframe\">\n",
       "  <thead>\n",
       "    <tr style=\"text-align: right;\">\n",
       "      <th></th>\n",
       "      <th>MO_HLADR_MFI_cellsul</th>\n",
       "      <th>Neu_CD64MFI_cellsul</th>\n",
       "      <th>CD3T_cellsul</th>\n",
       "      <th>CD8T_cellsul</th>\n",
       "      <th>CD4T_cellsul</th>\n",
       "      <th>NK_cellsul</th>\n",
       "      <th>CD19_cellsul</th>\n",
       "      <th>CD45_cellsul</th>\n",
       "      <th>Age</th>\n",
       "      <th>Sex_0M1F</th>\n",
       "      <th>Mono_CD64MFI_cellsul</th>\n",
       "      <th>label</th>\n",
       "    </tr>\n",
       "  </thead>\n",
       "  <tbody>\n",
       "    <tr>\n",
       "      <th>count</th>\n",
       "      <td>86.000000</td>\n",
       "      <td>86.000000</td>\n",
       "      <td>87.000000</td>\n",
       "      <td>87.000000</td>\n",
       "      <td>87.000000</td>\n",
       "      <td>87.000000</td>\n",
       "      <td>87.000000</td>\n",
       "      <td>87.000000</td>\n",
       "      <td>87.000000</td>\n",
       "      <td>87.000000</td>\n",
       "      <td>86.000000</td>\n",
       "      <td>87.000000</td>\n",
       "    </tr>\n",
       "    <tr>\n",
       "      <th>mean</th>\n",
       "      <td>1264.244186</td>\n",
       "      <td>290.383721</td>\n",
       "      <td>982.570115</td>\n",
       "      <td>479.340920</td>\n",
       "      <td>494.904023</td>\n",
       "      <td>212.732874</td>\n",
       "      <td>118.780920</td>\n",
       "      <td>1325.096437</td>\n",
       "      <td>40.218391</td>\n",
       "      <td>0.482759</td>\n",
       "      <td>2066.534884</td>\n",
       "      <td>0.333333</td>\n",
       "    </tr>\n",
       "    <tr>\n",
       "      <th>std</th>\n",
       "      <td>765.452376</td>\n",
       "      <td>490.283499</td>\n",
       "      <td>617.332545</td>\n",
       "      <td>344.326452</td>\n",
       "      <td>311.836604</td>\n",
       "      <td>173.553264</td>\n",
       "      <td>96.218344</td>\n",
       "      <td>791.602538</td>\n",
       "      <td>10.461919</td>\n",
       "      <td>0.502599</td>\n",
       "      <td>1198.401364</td>\n",
       "      <td>0.474137</td>\n",
       "    </tr>\n",
       "    <tr>\n",
       "      <th>min</th>\n",
       "      <td>112.000000</td>\n",
       "      <td>30.000000</td>\n",
       "      <td>74.400000</td>\n",
       "      <td>36.610000</td>\n",
       "      <td>39.590000</td>\n",
       "      <td>0.000000</td>\n",
       "      <td>4.200000</td>\n",
       "      <td>209.250000</td>\n",
       "      <td>19.000000</td>\n",
       "      <td>0.000000</td>\n",
       "      <td>72.000000</td>\n",
       "      <td>0.000000</td>\n",
       "    </tr>\n",
       "    <tr>\n",
       "      <th>25%</th>\n",
       "      <td>685.500000</td>\n",
       "      <td>77.500000</td>\n",
       "      <td>549.390000</td>\n",
       "      <td>237.920000</td>\n",
       "      <td>272.745000</td>\n",
       "      <td>78.815000</td>\n",
       "      <td>52.425000</td>\n",
       "      <td>780.615000</td>\n",
       "      <td>33.000000</td>\n",
       "      <td>0.000000</td>\n",
       "      <td>1461.250000</td>\n",
       "      <td>0.000000</td>\n",
       "    </tr>\n",
       "    <tr>\n",
       "      <th>50%</th>\n",
       "      <td>1108.500000</td>\n",
       "      <td>124.500000</td>\n",
       "      <td>871.710000</td>\n",
       "      <td>423.270000</td>\n",
       "      <td>459.720000</td>\n",
       "      <td>188.780000</td>\n",
       "      <td>89.790000</td>\n",
       "      <td>1179.270000</td>\n",
       "      <td>41.000000</td>\n",
       "      <td>0.000000</td>\n",
       "      <td>1757.500000</td>\n",
       "      <td>0.000000</td>\n",
       "    </tr>\n",
       "    <tr>\n",
       "      <th>75%</th>\n",
       "      <td>1602.250000</td>\n",
       "      <td>244.500000</td>\n",
       "      <td>1268.085000</td>\n",
       "      <td>624.450000</td>\n",
       "      <td>624.360000</td>\n",
       "      <td>262.845000</td>\n",
       "      <td>155.450000</td>\n",
       "      <td>1617.725000</td>\n",
       "      <td>49.500000</td>\n",
       "      <td>1.000000</td>\n",
       "      <td>2238.250000</td>\n",
       "      <td>1.000000</td>\n",
       "    </tr>\n",
       "    <tr>\n",
       "      <th>max</th>\n",
       "      <td>4145.000000</td>\n",
       "      <td>3124.000000</td>\n",
       "      <td>3791.230000</td>\n",
       "      <td>2548.100000</td>\n",
       "      <td>1517.810000</td>\n",
       "      <td>878.040000</td>\n",
       "      <td>485.860000</td>\n",
       "      <td>4757.280000</td>\n",
       "      <td>60.000000</td>\n",
       "      <td>1.000000</td>\n",
       "      <td>7515.000000</td>\n",
       "      <td>1.000000</td>\n",
       "    </tr>\n",
       "  </tbody>\n",
       "</table>\n",
       "</div>"
      ],
      "text/plain": [
       "       MO_HLADR_MFI_cellsul  Neu_CD64MFI_cellsul  CD3T_cellsul  CD8T_cellsul  \\\n",
       "count             86.000000            86.000000     87.000000     87.000000   \n",
       "mean            1264.244186           290.383721    982.570115    479.340920   \n",
       "std              765.452376           490.283499    617.332545    344.326452   \n",
       "min              112.000000            30.000000     74.400000     36.610000   \n",
       "25%              685.500000            77.500000    549.390000    237.920000   \n",
       "50%             1108.500000           124.500000    871.710000    423.270000   \n",
       "75%             1602.250000           244.500000   1268.085000    624.450000   \n",
       "max             4145.000000          3124.000000   3791.230000   2548.100000   \n",
       "\n",
       "       CD4T_cellsul  NK_cellsul  CD19_cellsul  CD45_cellsul        Age  \\\n",
       "count     87.000000   87.000000     87.000000     87.000000  87.000000   \n",
       "mean     494.904023  212.732874    118.780920   1325.096437  40.218391   \n",
       "std      311.836604  173.553264     96.218344    791.602538  10.461919   \n",
       "min       39.590000    0.000000      4.200000    209.250000  19.000000   \n",
       "25%      272.745000   78.815000     52.425000    780.615000  33.000000   \n",
       "50%      459.720000  188.780000     89.790000   1179.270000  41.000000   \n",
       "75%      624.360000  262.845000    155.450000   1617.725000  49.500000   \n",
       "max     1517.810000  878.040000    485.860000   4757.280000  60.000000   \n",
       "\n",
       "        Sex_0M1F  Mono_CD64MFI_cellsul      label  \n",
       "count  87.000000             86.000000  87.000000  \n",
       "mean    0.482759           2066.534884   0.333333  \n",
       "std     0.502599           1198.401364   0.474137  \n",
       "min     0.000000             72.000000   0.000000  \n",
       "25%     0.000000           1461.250000   0.000000  \n",
       "50%     0.000000           1757.500000   0.000000  \n",
       "75%     1.000000           2238.250000   1.000000  \n",
       "max     1.000000           7515.000000   1.000000  "
      ]
     },
     "metadata": {},
     "output_type": "display_data"
    },
    {
     "name": "stdout",
     "output_type": "stream",
     "text": [
      "<class 'pandas.core.frame.DataFrame'>\n",
      "Float64Index: 87 entries, 0.0 to 86.0\n",
      "Data columns (total 12 columns):\n",
      " #   Column                Non-Null Count  Dtype  \n",
      "---  ------                --------------  -----  \n",
      " 0   MO_HLADR_MFI_cellsul  86 non-null     float64\n",
      " 1   Neu_CD64MFI_cellsul   86 non-null     float64\n",
      " 2   CD3T_cellsul          87 non-null     float64\n",
      " 3   CD8T_cellsul          87 non-null     float64\n",
      " 4   CD4T_cellsul          87 non-null     float64\n",
      " 5   NK_cellsul            87 non-null     float64\n",
      " 6   CD19_cellsul          87 non-null     float64\n",
      " 7   CD45_cellsul          87 non-null     float64\n",
      " 8   Age                   87 non-null     float64\n",
      " 9   Sex_0M1F              87 non-null     float64\n",
      " 10  Mono_CD64MFI_cellsul  86 non-null     float64\n",
      " 11  label                 87 non-null     float64\n",
      "dtypes: float64(12)\n",
      "memory usage: 8.8 KB\n"
     ]
    },
    {
     "data": {
      "text/plain": [
       "None"
      ]
     },
     "metadata": {},
     "output_type": "display_data"
    },
    {
     "data": {
      "text/html": [
       "<div>\n",
       "<style scoped>\n",
       "    .dataframe tbody tr th:only-of-type {\n",
       "        vertical-align: middle;\n",
       "    }\n",
       "\n",
       "    .dataframe tbody tr th {\n",
       "        vertical-align: top;\n",
       "    }\n",
       "\n",
       "    .dataframe thead th {\n",
       "        text-align: right;\n",
       "    }\n",
       "</style>\n",
       "<table border=\"1\" class=\"dataframe\">\n",
       "  <thead>\n",
       "    <tr style=\"text-align: right;\">\n",
       "      <th></th>\n",
       "      <th>MO_HLADR_MFI_cellsul</th>\n",
       "      <th>Neu_CD64MFI_cellsul</th>\n",
       "      <th>CD3T_cellsul</th>\n",
       "      <th>CD8T_cellsul</th>\n",
       "      <th>CD4T_cellsul</th>\n",
       "      <th>NK_cellsul</th>\n",
       "      <th>CD19_cellsul</th>\n",
       "      <th>CD45_cellsul</th>\n",
       "      <th>Age</th>\n",
       "      <th>Sex_0M1F</th>\n",
       "      <th>Mono_CD64MFI_cellsul</th>\n",
       "    </tr>\n",
       "  </thead>\n",
       "  <tbody>\n",
       "    <tr>\n",
       "      <th>count</th>\n",
       "      <td>59.000000</td>\n",
       "      <td>59.000000</td>\n",
       "      <td>59.000000</td>\n",
       "      <td>59.000000</td>\n",
       "      <td>59.000000</td>\n",
       "      <td>59.000000</td>\n",
       "      <td>59.000000</td>\n",
       "      <td>59.00000</td>\n",
       "      <td>59.000000</td>\n",
       "      <td>59.000000</td>\n",
       "      <td>59.000000</td>\n",
       "    </tr>\n",
       "    <tr>\n",
       "      <th>mean</th>\n",
       "      <td>1212.423729</td>\n",
       "      <td>206.491525</td>\n",
       "      <td>1085.340508</td>\n",
       "      <td>546.220339</td>\n",
       "      <td>523.237966</td>\n",
       "      <td>226.820339</td>\n",
       "      <td>115.048983</td>\n",
       "      <td>1439.65339</td>\n",
       "      <td>41.186441</td>\n",
       "      <td>0.355932</td>\n",
       "      <td>1971.220339</td>\n",
       "    </tr>\n",
       "    <tr>\n",
       "      <th>std</th>\n",
       "      <td>772.139285</td>\n",
       "      <td>248.195027</td>\n",
       "      <td>564.337155</td>\n",
       "      <td>342.370020</td>\n",
       "      <td>271.730902</td>\n",
       "      <td>189.056327</td>\n",
       "      <td>87.200827</td>\n",
       "      <td>689.02181</td>\n",
       "      <td>9.438503</td>\n",
       "      <td>0.482905</td>\n",
       "      <td>1137.384129</td>\n",
       "    </tr>\n",
       "    <tr>\n",
       "      <th>min</th>\n",
       "      <td>82.000000</td>\n",
       "      <td>24.000000</td>\n",
       "      <td>258.010000</td>\n",
       "      <td>114.980000</td>\n",
       "      <td>80.390000</td>\n",
       "      <td>17.720000</td>\n",
       "      <td>2.960000</td>\n",
       "      <td>314.25000</td>\n",
       "      <td>15.000000</td>\n",
       "      <td>0.000000</td>\n",
       "      <td>371.000000</td>\n",
       "    </tr>\n",
       "    <tr>\n",
       "      <th>25%</th>\n",
       "      <td>696.500000</td>\n",
       "      <td>65.000000</td>\n",
       "      <td>629.890000</td>\n",
       "      <td>268.300000</td>\n",
       "      <td>336.955000</td>\n",
       "      <td>88.330000</td>\n",
       "      <td>59.500000</td>\n",
       "      <td>914.84000</td>\n",
       "      <td>34.500000</td>\n",
       "      <td>0.000000</td>\n",
       "      <td>1283.500000</td>\n",
       "    </tr>\n",
       "    <tr>\n",
       "      <th>50%</th>\n",
       "      <td>1010.000000</td>\n",
       "      <td>114.000000</td>\n",
       "      <td>1025.320000</td>\n",
       "      <td>433.610000</td>\n",
       "      <td>511.000000</td>\n",
       "      <td>174.860000</td>\n",
       "      <td>98.240000</td>\n",
       "      <td>1378.32000</td>\n",
       "      <td>42.000000</td>\n",
       "      <td>0.000000</td>\n",
       "      <td>1701.000000</td>\n",
       "    </tr>\n",
       "    <tr>\n",
       "      <th>75%</th>\n",
       "      <td>1623.000000</td>\n",
       "      <td>232.000000</td>\n",
       "      <td>1495.395000</td>\n",
       "      <td>751.380000</td>\n",
       "      <td>676.530000</td>\n",
       "      <td>318.140000</td>\n",
       "      <td>143.560000</td>\n",
       "      <td>1855.05000</td>\n",
       "      <td>49.000000</td>\n",
       "      <td>1.000000</td>\n",
       "      <td>2375.000000</td>\n",
       "    </tr>\n",
       "    <tr>\n",
       "      <th>max</th>\n",
       "      <td>4195.000000</td>\n",
       "      <td>1141.000000</td>\n",
       "      <td>2771.200000</td>\n",
       "      <td>1738.550000</td>\n",
       "      <td>1225.680000</td>\n",
       "      <td>956.780000</td>\n",
       "      <td>501.910000</td>\n",
       "      <td>3355.86000</td>\n",
       "      <td>62.000000</td>\n",
       "      <td>1.000000</td>\n",
       "      <td>6788.000000</td>\n",
       "    </tr>\n",
       "  </tbody>\n",
       "</table>\n",
       "</div>"
      ],
      "text/plain": [
       "       MO_HLADR_MFI_cellsul  Neu_CD64MFI_cellsul  CD3T_cellsul  CD8T_cellsul  \\\n",
       "count             59.000000            59.000000     59.000000     59.000000   \n",
       "mean            1212.423729           206.491525   1085.340508    546.220339   \n",
       "std              772.139285           248.195027    564.337155    342.370020   \n",
       "min               82.000000            24.000000    258.010000    114.980000   \n",
       "25%              696.500000            65.000000    629.890000    268.300000   \n",
       "50%             1010.000000           114.000000   1025.320000    433.610000   \n",
       "75%             1623.000000           232.000000   1495.395000    751.380000   \n",
       "max             4195.000000          1141.000000   2771.200000   1738.550000   \n",
       "\n",
       "       CD4T_cellsul  NK_cellsul  CD19_cellsul  CD45_cellsul        Age  \\\n",
       "count     59.000000   59.000000     59.000000      59.00000  59.000000   \n",
       "mean     523.237966  226.820339    115.048983    1439.65339  41.186441   \n",
       "std      271.730902  189.056327     87.200827     689.02181   9.438503   \n",
       "min       80.390000   17.720000      2.960000     314.25000  15.000000   \n",
       "25%      336.955000   88.330000     59.500000     914.84000  34.500000   \n",
       "50%      511.000000  174.860000     98.240000    1378.32000  42.000000   \n",
       "75%      676.530000  318.140000    143.560000    1855.05000  49.000000   \n",
       "max     1225.680000  956.780000    501.910000    3355.86000  62.000000   \n",
       "\n",
       "        Sex_0M1F  Mono_CD64MFI_cellsul  \n",
       "count  59.000000             59.000000  \n",
       "mean    0.355932           1971.220339  \n",
       "std     0.482905           1137.384129  \n",
       "min     0.000000            371.000000  \n",
       "25%     0.000000           1283.500000  \n",
       "50%     0.000000           1701.000000  \n",
       "75%     1.000000           2375.000000  \n",
       "max     1.000000           6788.000000  "
      ]
     },
     "metadata": {},
     "output_type": "display_data"
    },
    {
     "name": "stdout",
     "output_type": "stream",
     "text": [
      "<class 'pandas.core.frame.DataFrame'>\n",
      "Float64Index: 59 entries, 0.0 to 58.0\n",
      "Data columns (total 11 columns):\n",
      " #   Column                Non-Null Count  Dtype  \n",
      "---  ------                --------------  -----  \n",
      " 0   MO_HLADR_MFI_cellsul  59 non-null     float64\n",
      " 1   Neu_CD64MFI_cellsul   59 non-null     float64\n",
      " 2   CD3T_cellsul          59 non-null     float64\n",
      " 3   CD8T_cellsul          59 non-null     float64\n",
      " 4   CD4T_cellsul          59 non-null     float64\n",
      " 5   NK_cellsul            59 non-null     float64\n",
      " 6   CD19_cellsul          59 non-null     float64\n",
      " 7   CD45_cellsul          59 non-null     float64\n",
      " 8   Age                   59 non-null     float64\n",
      " 9   Sex_0M1F              59 non-null     float64\n",
      " 10  Mono_CD64MFI_cellsul  59 non-null     float64\n",
      "dtypes: float64(11)\n",
      "memory usage: 5.5 KB\n"
     ]
    },
    {
     "data": {
      "text/plain": [
       "None"
      ]
     },
     "metadata": {},
     "output_type": "display_data"
    }
   ],
   "source": [
    "# Convert np.array to df\n",
    "df_train = pd.DataFrame(train)\n",
    "df_test = pd.DataFrame(test)\n",
    "\n",
    "if row_index_name:\n",
    "    df_train.set_index(row_index_name, inplace=True)\n",
    "    df_test.set_index(row_index_name, inplace=True)\n",
    "\n",
    "display(df_train.describe())\n",
    "display(df_train.info())\n",
    "\n",
    "display(df_test.describe())\n",
    "display(df_test.info())\n"
   ]
  },
  {
   "cell_type": "markdown",
   "id": "GQaJ5SHHF63D",
   "metadata": {
    "id": "GQaJ5SHHF63D"
   },
   "source": [
    "## Clean data - Remove `null` rows"
   ]
  },
  {
   "cell_type": "code",
   "execution_count": 7,
   "id": "Fq3X0kGXF7KU",
   "metadata": {
    "ExecuteTime": {
     "end_time": "2022-04-05T11:46:57.913571Z",
     "start_time": "2022-04-05T11:46:57.863825Z"
    },
    "colab": {
     "base_uri": "https://localhost:8080/",
     "height": 399
    },
    "executionInfo": {
     "elapsed": 164,
     "status": "ok",
     "timestamp": 1649158354461,
     "user": {
      "displayName": "msc work",
      "userId": "10004626043936594729"
     },
     "user_tz": -480
    },
    "id": "Fq3X0kGXF7KU",
    "outputId": "c3b20e60-8478-48e3-e279-b15165c6311c"
   },
   "outputs": [
    {
     "data": {
      "text/html": [
       "<div>\n",
       "<style scoped>\n",
       "    .dataframe tbody tr th:only-of-type {\n",
       "        vertical-align: middle;\n",
       "    }\n",
       "\n",
       "    .dataframe tbody tr th {\n",
       "        vertical-align: top;\n",
       "    }\n",
       "\n",
       "    .dataframe thead th {\n",
       "        text-align: right;\n",
       "    }\n",
       "</style>\n",
       "<table border=\"1\" class=\"dataframe\">\n",
       "  <thead>\n",
       "    <tr style=\"text-align: right;\">\n",
       "      <th></th>\n",
       "      <th>MO_HLADR_MFI_cellsul</th>\n",
       "      <th>Neu_CD64MFI_cellsul</th>\n",
       "      <th>CD3T_cellsul</th>\n",
       "      <th>CD8T_cellsul</th>\n",
       "      <th>CD4T_cellsul</th>\n",
       "      <th>NK_cellsul</th>\n",
       "      <th>CD19_cellsul</th>\n",
       "      <th>CD45_cellsul</th>\n",
       "      <th>Age</th>\n",
       "      <th>Sex_0M1F</th>\n",
       "      <th>Mono_CD64MFI_cellsul</th>\n",
       "      <th>label</th>\n",
       "    </tr>\n",
       "    <tr>\n",
       "      <th>id</th>\n",
       "      <th></th>\n",
       "      <th></th>\n",
       "      <th></th>\n",
       "      <th></th>\n",
       "      <th></th>\n",
       "      <th></th>\n",
       "      <th></th>\n",
       "      <th></th>\n",
       "      <th></th>\n",
       "      <th></th>\n",
       "      <th></th>\n",
       "      <th></th>\n",
       "    </tr>\n",
       "  </thead>\n",
       "  <tbody>\n",
       "    <tr>\n",
       "      <th>39.0</th>\n",
       "      <td>NaN</td>\n",
       "      <td>NaN</td>\n",
       "      <td>1336.54</td>\n",
       "      <td>739.71</td>\n",
       "      <td>550.3</td>\n",
       "      <td>68.46</td>\n",
       "      <td>192.07</td>\n",
       "      <td>1615.68</td>\n",
       "      <td>21.0</td>\n",
       "      <td>0.0</td>\n",
       "      <td>NaN</td>\n",
       "      <td>0.0</td>\n",
       "    </tr>\n",
       "  </tbody>\n",
       "</table>\n",
       "</div>"
      ],
      "text/plain": [
       "      MO_HLADR_MFI_cellsul  Neu_CD64MFI_cellsul  CD3T_cellsul  CD8T_cellsul  \\\n",
       "id                                                                            \n",
       "39.0                   NaN                  NaN       1336.54        739.71   \n",
       "\n",
       "      CD4T_cellsul  NK_cellsul  CD19_cellsul  CD45_cellsul   Age  Sex_0M1F  \\\n",
       "id                                                                           \n",
       "39.0         550.3       68.46        192.07       1615.68  21.0       0.0   \n",
       "\n",
       "      Mono_CD64MFI_cellsul  label  \n",
       "id                                 \n",
       "39.0                   NaN    0.0  "
      ]
     },
     "metadata": {},
     "output_type": "display_data"
    },
    {
     "data": {
      "text/html": [
       "<div>\n",
       "<style scoped>\n",
       "    .dataframe tbody tr th:only-of-type {\n",
       "        vertical-align: middle;\n",
       "    }\n",
       "\n",
       "    .dataframe tbody tr th {\n",
       "        vertical-align: top;\n",
       "    }\n",
       "\n",
       "    .dataframe thead th {\n",
       "        text-align: right;\n",
       "    }\n",
       "</style>\n",
       "<table border=\"1\" class=\"dataframe\">\n",
       "  <thead>\n",
       "    <tr style=\"text-align: right;\">\n",
       "      <th></th>\n",
       "      <th>MO_HLADR_MFI_cellsul</th>\n",
       "      <th>Neu_CD64MFI_cellsul</th>\n",
       "      <th>CD3T_cellsul</th>\n",
       "      <th>CD8T_cellsul</th>\n",
       "      <th>CD4T_cellsul</th>\n",
       "      <th>NK_cellsul</th>\n",
       "      <th>CD19_cellsul</th>\n",
       "      <th>CD45_cellsul</th>\n",
       "      <th>Age</th>\n",
       "      <th>Sex_0M1F</th>\n",
       "      <th>Mono_CD64MFI_cellsul</th>\n",
       "      <th>label</th>\n",
       "    </tr>\n",
       "    <tr>\n",
       "      <th>id</th>\n",
       "      <th></th>\n",
       "      <th></th>\n",
       "      <th></th>\n",
       "      <th></th>\n",
       "      <th></th>\n",
       "      <th></th>\n",
       "      <th></th>\n",
       "      <th></th>\n",
       "      <th></th>\n",
       "      <th></th>\n",
       "      <th></th>\n",
       "      <th></th>\n",
       "    </tr>\n",
       "  </thead>\n",
       "  <tbody>\n",
       "    <tr>\n",
       "      <th>39.0</th>\n",
       "      <td>NaN</td>\n",
       "      <td>NaN</td>\n",
       "      <td>1336.54</td>\n",
       "      <td>739.71</td>\n",
       "      <td>550.3</td>\n",
       "      <td>68.46</td>\n",
       "      <td>192.07</td>\n",
       "      <td>1615.68</td>\n",
       "      <td>21.0</td>\n",
       "      <td>0.0</td>\n",
       "      <td>NaN</td>\n",
       "      <td>0.0</td>\n",
       "    </tr>\n",
       "  </tbody>\n",
       "</table>\n",
       "</div>"
      ],
      "text/plain": [
       "      MO_HLADR_MFI_cellsul  Neu_CD64MFI_cellsul  CD3T_cellsul  CD8T_cellsul  \\\n",
       "id                                                                            \n",
       "39.0                   NaN                  NaN       1336.54        739.71   \n",
       "\n",
       "      CD4T_cellsul  NK_cellsul  CD19_cellsul  CD45_cellsul   Age  Sex_0M1F  \\\n",
       "id                                                                           \n",
       "39.0         550.3       68.46        192.07       1615.68  21.0       0.0   \n",
       "\n",
       "      Mono_CD64MFI_cellsul  label  \n",
       "id                                 \n",
       "39.0                   NaN    0.0  "
      ]
     },
     "metadata": {},
     "output_type": "display_data"
    },
    {
     "data": {
      "text/html": [
       "<div>\n",
       "<style scoped>\n",
       "    .dataframe tbody tr th:only-of-type {\n",
       "        vertical-align: middle;\n",
       "    }\n",
       "\n",
       "    .dataframe tbody tr th {\n",
       "        vertical-align: top;\n",
       "    }\n",
       "\n",
       "    .dataframe thead th {\n",
       "        text-align: right;\n",
       "    }\n",
       "</style>\n",
       "<table border=\"1\" class=\"dataframe\">\n",
       "  <thead>\n",
       "    <tr style=\"text-align: right;\">\n",
       "      <th></th>\n",
       "      <th>MO_HLADR_MFI_cellsul</th>\n",
       "      <th>Neu_CD64MFI_cellsul</th>\n",
       "      <th>CD3T_cellsul</th>\n",
       "      <th>CD8T_cellsul</th>\n",
       "      <th>CD4T_cellsul</th>\n",
       "      <th>NK_cellsul</th>\n",
       "      <th>CD19_cellsul</th>\n",
       "      <th>CD45_cellsul</th>\n",
       "      <th>Age</th>\n",
       "      <th>Sex_0M1F</th>\n",
       "      <th>Mono_CD64MFI_cellsul</th>\n",
       "    </tr>\n",
       "    <tr>\n",
       "      <th>id</th>\n",
       "      <th></th>\n",
       "      <th></th>\n",
       "      <th></th>\n",
       "      <th></th>\n",
       "      <th></th>\n",
       "      <th></th>\n",
       "      <th></th>\n",
       "      <th></th>\n",
       "      <th></th>\n",
       "      <th></th>\n",
       "      <th></th>\n",
       "    </tr>\n",
       "  </thead>\n",
       "  <tbody>\n",
       "  </tbody>\n",
       "</table>\n",
       "</div>"
      ],
      "text/plain": [
       "Empty DataFrame\n",
       "Columns: [MO_HLADR_MFI_cellsul, Neu_CD64MFI_cellsul, CD3T_cellsul, CD8T_cellsul, CD4T_cellsul, NK_cellsul, CD19_cellsul, CD45_cellsul, Age, Sex_0M1F, Mono_CD64MFI_cellsul]\n",
       "Index: []"
      ]
     },
     "metadata": {},
     "output_type": "display_data"
    },
    {
     "data": {
      "text/html": [
       "<div>\n",
       "<style scoped>\n",
       "    .dataframe tbody tr th:only-of-type {\n",
       "        vertical-align: middle;\n",
       "    }\n",
       "\n",
       "    .dataframe tbody tr th {\n",
       "        vertical-align: top;\n",
       "    }\n",
       "\n",
       "    .dataframe thead th {\n",
       "        text-align: right;\n",
       "    }\n",
       "</style>\n",
       "<table border=\"1\" class=\"dataframe\">\n",
       "  <thead>\n",
       "    <tr style=\"text-align: right;\">\n",
       "      <th></th>\n",
       "      <th>MO_HLADR_MFI_cellsul</th>\n",
       "      <th>Neu_CD64MFI_cellsul</th>\n",
       "      <th>CD3T_cellsul</th>\n",
       "      <th>CD8T_cellsul</th>\n",
       "      <th>CD4T_cellsul</th>\n",
       "      <th>NK_cellsul</th>\n",
       "      <th>CD19_cellsul</th>\n",
       "      <th>CD45_cellsul</th>\n",
       "      <th>Age</th>\n",
       "      <th>Sex_0M1F</th>\n",
       "      <th>Mono_CD64MFI_cellsul</th>\n",
       "    </tr>\n",
       "    <tr>\n",
       "      <th>id</th>\n",
       "      <th></th>\n",
       "      <th></th>\n",
       "      <th></th>\n",
       "      <th></th>\n",
       "      <th></th>\n",
       "      <th></th>\n",
       "      <th></th>\n",
       "      <th></th>\n",
       "      <th></th>\n",
       "      <th></th>\n",
       "      <th></th>\n",
       "    </tr>\n",
       "  </thead>\n",
       "  <tbody>\n",
       "  </tbody>\n",
       "</table>\n",
       "</div>"
      ],
      "text/plain": [
       "Empty DataFrame\n",
       "Columns: [MO_HLADR_MFI_cellsul, Neu_CD64MFI_cellsul, CD3T_cellsul, CD8T_cellsul, CD4T_cellsul, NK_cellsul, CD19_cellsul, CD45_cellsul, Age, Sex_0M1F, Mono_CD64MFI_cellsul]\n",
       "Index: []"
      ]
     },
     "metadata": {},
     "output_type": "display_data"
    }
   ],
   "source": [
    "# Cheak `null` rows\n",
    "display(df_train[df_train.isna().any(axis=1)])\n",
    "display(df_train[df_train.isnull().any(axis=1)])\n",
    "\n",
    "display(df_test[df_test.isna().any(axis=1)])\n",
    "display(df_test[df_test.isnull().any(axis=1)])\n"
   ]
  },
  {
   "cell_type": "code",
   "execution_count": 8,
   "id": "Gb84Y3slHQl8",
   "metadata": {
    "ExecuteTime": {
     "end_time": "2022-04-05T11:46:57.947657Z",
     "start_time": "2022-04-05T11:46:57.920244Z"
    },
    "colab": {
     "base_uri": "https://localhost:8080/",
     "height": 208
    },
    "executionInfo": {
     "elapsed": 163,
     "status": "ok",
     "timestamp": 1649158354462,
     "user": {
      "displayName": "msc work",
      "userId": "10004626043936594729"
     },
     "user_tz": -480
    },
    "id": "Gb84Y3slHQl8",
    "outputId": "c54e3dd4-eae3-48cf-cc65-5c6e28e9c60b"
   },
   "outputs": [
    {
     "data": {
      "text/html": [
       "<div>\n",
       "<style scoped>\n",
       "    .dataframe tbody tr th:only-of-type {\n",
       "        vertical-align: middle;\n",
       "    }\n",
       "\n",
       "    .dataframe tbody tr th {\n",
       "        vertical-align: top;\n",
       "    }\n",
       "\n",
       "    .dataframe thead th {\n",
       "        text-align: right;\n",
       "    }\n",
       "</style>\n",
       "<table border=\"1\" class=\"dataframe\">\n",
       "  <thead>\n",
       "    <tr style=\"text-align: right;\">\n",
       "      <th></th>\n",
       "      <th>MO_HLADR_MFI_cellsul</th>\n",
       "      <th>Neu_CD64MFI_cellsul</th>\n",
       "      <th>CD3T_cellsul</th>\n",
       "      <th>CD8T_cellsul</th>\n",
       "      <th>CD4T_cellsul</th>\n",
       "      <th>NK_cellsul</th>\n",
       "      <th>CD19_cellsul</th>\n",
       "      <th>CD45_cellsul</th>\n",
       "      <th>Age</th>\n",
       "      <th>Sex_0M1F</th>\n",
       "      <th>Mono_CD64MFI_cellsul</th>\n",
       "      <th>label</th>\n",
       "    </tr>\n",
       "    <tr>\n",
       "      <th>id</th>\n",
       "      <th></th>\n",
       "      <th></th>\n",
       "      <th></th>\n",
       "      <th></th>\n",
       "      <th></th>\n",
       "      <th></th>\n",
       "      <th></th>\n",
       "      <th></th>\n",
       "      <th></th>\n",
       "      <th></th>\n",
       "      <th></th>\n",
       "      <th></th>\n",
       "    </tr>\n",
       "  </thead>\n",
       "  <tbody>\n",
       "  </tbody>\n",
       "</table>\n",
       "</div>"
      ],
      "text/plain": [
       "Empty DataFrame\n",
       "Columns: [MO_HLADR_MFI_cellsul, Neu_CD64MFI_cellsul, CD3T_cellsul, CD8T_cellsul, CD4T_cellsul, NK_cellsul, CD19_cellsul, CD45_cellsul, Age, Sex_0M1F, Mono_CD64MFI_cellsul, label]\n",
       "Index: []"
      ]
     },
     "metadata": {},
     "output_type": "display_data"
    },
    {
     "data": {
      "text/html": [
       "<div>\n",
       "<style scoped>\n",
       "    .dataframe tbody tr th:only-of-type {\n",
       "        vertical-align: middle;\n",
       "    }\n",
       "\n",
       "    .dataframe tbody tr th {\n",
       "        vertical-align: top;\n",
       "    }\n",
       "\n",
       "    .dataframe thead th {\n",
       "        text-align: right;\n",
       "    }\n",
       "</style>\n",
       "<table border=\"1\" class=\"dataframe\">\n",
       "  <thead>\n",
       "    <tr style=\"text-align: right;\">\n",
       "      <th></th>\n",
       "      <th>MO_HLADR_MFI_cellsul</th>\n",
       "      <th>Neu_CD64MFI_cellsul</th>\n",
       "      <th>CD3T_cellsul</th>\n",
       "      <th>CD8T_cellsul</th>\n",
       "      <th>CD4T_cellsul</th>\n",
       "      <th>NK_cellsul</th>\n",
       "      <th>CD19_cellsul</th>\n",
       "      <th>CD45_cellsul</th>\n",
       "      <th>Age</th>\n",
       "      <th>Sex_0M1F</th>\n",
       "      <th>Mono_CD64MFI_cellsul</th>\n",
       "    </tr>\n",
       "    <tr>\n",
       "      <th>id</th>\n",
       "      <th></th>\n",
       "      <th></th>\n",
       "      <th></th>\n",
       "      <th></th>\n",
       "      <th></th>\n",
       "      <th></th>\n",
       "      <th></th>\n",
       "      <th></th>\n",
       "      <th></th>\n",
       "      <th></th>\n",
       "      <th></th>\n",
       "    </tr>\n",
       "  </thead>\n",
       "  <tbody>\n",
       "  </tbody>\n",
       "</table>\n",
       "</div>"
      ],
      "text/plain": [
       "Empty DataFrame\n",
       "Columns: [MO_HLADR_MFI_cellsul, Neu_CD64MFI_cellsul, CD3T_cellsul, CD8T_cellsul, CD4T_cellsul, NK_cellsul, CD19_cellsul, CD45_cellsul, Age, Sex_0M1F, Mono_CD64MFI_cellsul]\n",
       "Index: []"
      ]
     },
     "metadata": {},
     "output_type": "display_data"
    }
   ],
   "source": [
    "# Remove `null` rows\n",
    "\n",
    "## Train data\n",
    "df_train = df_train[~df_train.isna().any(axis=1)]\n",
    "display(df_train[df_train.isna().any(axis=1)])\n",
    "\n",
    "\n",
    "\n",
    "## Test data\n",
    "df_test = df_test[~df_test.isna().any(axis=1)]\n",
    "display(df_test[df_test.isna().any(axis=1)])\n",
    "\n"
   ]
  },
  {
   "cell_type": "markdown",
   "id": "4O0xFLp2Micf",
   "metadata": {
    "id": "4O0xFLp2Micf"
   },
   "source": [
    "## Split `validation` sets from `train` sets\n",
    "\n",
    "randomly select rows from Pandas DataFrame,\n",
    "* https://www.geeksforgeeks.org/how-to-randomly-select-rows-from-pandas-dataframe/"
   ]
  },
  {
   "cell_type": "code",
   "execution_count": 9,
   "id": "bHUVosl0Miz9",
   "metadata": {
    "ExecuteTime": {
     "end_time": "2022-04-05T11:46:57.963952Z",
     "start_time": "2022-04-05T11:46:57.950429Z"
    },
    "colab": {
     "base_uri": "https://localhost:8080/",
     "height": 191
    },
    "executionInfo": {
     "elapsed": 163,
     "status": "ok",
     "timestamp": 1649158354464,
     "user": {
      "displayName": "msc work",
      "userId": "10004626043936594729"
     },
     "user_tz": -480
    },
    "id": "bHUVosl0Miz9",
    "outputId": "e3223e01-19e5-4145-cea6-04e77434d666"
   },
   "outputs": [
    {
     "data": {
      "text/plain": [
       "Float64Index([ 9.0, 84.0, 19.0, 38.0,  2.0, 30.0, 10.0, 42.0, 61.0, 17.0, 51.0,\n",
       "              44.0,  5.0, 50.0, 29.0, 65.0, 64.0, 66.0, 68.0, 67.0, 34.0, 47.0,\n",
       "              25.0, 59.0, 36.0, 70.0, 54.0, 18.0, 41.0,  4.0, 12.0, 74.0, 79.0,\n",
       "              78.0, 86.0, 49.0,  8.0, 33.0, 48.0, 63.0,  3.0,  0.0, 21.0, 20.0,\n",
       "              82.0, 46.0, 32.0, 31.0, 53.0, 35.0, 76.0, 75.0, 71.0, 85.0, 13.0,\n",
       "              55.0, 22.0, 72.0, 24.0, 23.0, 73.0, 15.0, 27.0, 52.0,  7.0,  1.0,\n",
       "              57.0, 83.0,  6.0, 11.0, 58.0, 14.0, 80.0, 77.0, 56.0, 43.0, 69.0,\n",
       "              16.0, 26.0],\n",
       "             dtype='float64', name='id')"
      ]
     },
     "metadata": {},
     "output_type": "display_data"
    },
    {
     "data": {
      "text/plain": [
       "Float64Index([81.0, 28.0, 60.0, 37.0, 62.0, 40.0, 45.0], dtype='float64', name='id')"
      ]
     },
     "metadata": {},
     "output_type": "display_data"
    }
   ],
   "source": [
    "# To get 3 random rows\n",
    "# each time it gives 3 different rows\n",
    "# df_validation = df_train.sample(n = 3)\n",
    "\n",
    "df_train, df_validation = train_test_split(df_train, test_size=0.08, random_state=200)\n",
    "\n",
    "display(df_train.index)\n",
    "display(df_validation.index)"
   ]
  },
  {
   "cell_type": "markdown",
   "id": "2ocB7VKoSNIR",
   "metadata": {
    "id": "2ocB7VKoSNIR"
   },
   "source": [
    "### Make np.array (1) `train_x` `train_y` (2) `validation_x` `validation_y`"
   ]
  },
  {
   "cell_type": "code",
   "execution_count": 10,
   "id": "iFOgITiKScx-",
   "metadata": {
    "ExecuteTime": {
     "end_time": "2022-04-05T11:46:57.998803Z",
     "start_time": "2022-04-05T11:46:57.968931Z"
    },
    "colab": {
     "base_uri": "https://localhost:8080/",
     "height": 519
    },
    "executionInfo": {
     "elapsed": 163,
     "status": "ok",
     "timestamp": 1649158354465,
     "user": {
      "displayName": "msc work",
      "userId": "10004626043936594729"
     },
     "user_tz": -480
    },
    "id": "iFOgITiKScx-",
    "outputId": "ade4495a-cc08-4b95-a672-eeddaec94521"
   },
   "outputs": [
    {
     "data": {
      "text/html": [
       "<div>\n",
       "<style scoped>\n",
       "    .dataframe tbody tr th:only-of-type {\n",
       "        vertical-align: middle;\n",
       "    }\n",
       "\n",
       "    .dataframe tbody tr th {\n",
       "        vertical-align: top;\n",
       "    }\n",
       "\n",
       "    .dataframe thead th {\n",
       "        text-align: right;\n",
       "    }\n",
       "</style>\n",
       "<table border=\"1\" class=\"dataframe\">\n",
       "  <thead>\n",
       "    <tr style=\"text-align: right;\">\n",
       "      <th></th>\n",
       "      <th>MO_HLADR_MFI_cellsul</th>\n",
       "      <th>Neu_CD64MFI_cellsul</th>\n",
       "      <th>CD3T_cellsul</th>\n",
       "      <th>CD8T_cellsul</th>\n",
       "      <th>CD4T_cellsul</th>\n",
       "      <th>NK_cellsul</th>\n",
       "      <th>CD19_cellsul</th>\n",
       "      <th>CD45_cellsul</th>\n",
       "      <th>Age</th>\n",
       "      <th>Sex_0M1F</th>\n",
       "      <th>Mono_CD64MFI_cellsul</th>\n",
       "    </tr>\n",
       "    <tr>\n",
       "      <th>id</th>\n",
       "      <th></th>\n",
       "      <th></th>\n",
       "      <th></th>\n",
       "      <th></th>\n",
       "      <th></th>\n",
       "      <th></th>\n",
       "      <th></th>\n",
       "      <th></th>\n",
       "      <th></th>\n",
       "      <th></th>\n",
       "      <th></th>\n",
       "    </tr>\n",
       "  </thead>\n",
       "  <tbody>\n",
       "    <tr>\n",
       "      <th>9.0</th>\n",
       "      <td>1412.0</td>\n",
       "      <td>243.0</td>\n",
       "      <td>1177.19</td>\n",
       "      <td>684.42</td>\n",
       "      <td>490.50</td>\n",
       "      <td>185.30</td>\n",
       "      <td>67.22</td>\n",
       "      <td>1441.06</td>\n",
       "      <td>36.0</td>\n",
       "      <td>1.0</td>\n",
       "      <td>1213.0</td>\n",
       "    </tr>\n",
       "    <tr>\n",
       "      <th>84.0</th>\n",
       "      <td>634.0</td>\n",
       "      <td>1002.0</td>\n",
       "      <td>1300.00</td>\n",
       "      <td>558.00</td>\n",
       "      <td>724.00</td>\n",
       "      <td>67.00</td>\n",
       "      <td>105.00</td>\n",
       "      <td>1484.26</td>\n",
       "      <td>34.0</td>\n",
       "      <td>0.0</td>\n",
       "      <td>2926.0</td>\n",
       "    </tr>\n",
       "    <tr>\n",
       "      <th>19.0</th>\n",
       "      <td>403.0</td>\n",
       "      <td>555.0</td>\n",
       "      <td>313.48</td>\n",
       "      <td>131.53</td>\n",
       "      <td>182.69</td>\n",
       "      <td>46.68</td>\n",
       "      <td>7.90</td>\n",
       "      <td>370.30</td>\n",
       "      <td>40.0</td>\n",
       "      <td>0.0</td>\n",
       "      <td>2209.0</td>\n",
       "    </tr>\n",
       "    <tr>\n",
       "      <th>38.0</th>\n",
       "      <td>1010.0</td>\n",
       "      <td>1384.0</td>\n",
       "      <td>570.13</td>\n",
       "      <td>312.90</td>\n",
       "      <td>233.84</td>\n",
       "      <td>80.17</td>\n",
       "      <td>31.18</td>\n",
       "      <td>702.08</td>\n",
       "      <td>56.0</td>\n",
       "      <td>1.0</td>\n",
       "      <td>5501.0</td>\n",
       "    </tr>\n",
       "    <tr>\n",
       "      <th>2.0</th>\n",
       "      <td>1586.0</td>\n",
       "      <td>71.0</td>\n",
       "      <td>1332.74</td>\n",
       "      <td>684.20</td>\n",
       "      <td>655.26</td>\n",
       "      <td>244.95</td>\n",
       "      <td>216.52</td>\n",
       "      <td>1820.04</td>\n",
       "      <td>28.0</td>\n",
       "      <td>1.0</td>\n",
       "      <td>1311.0</td>\n",
       "    </tr>\n",
       "    <tr>\n",
       "      <th>...</th>\n",
       "      <td>...</td>\n",
       "      <td>...</td>\n",
       "      <td>...</td>\n",
       "      <td>...</td>\n",
       "      <td>...</td>\n",
       "      <td>...</td>\n",
       "      <td>...</td>\n",
       "      <td>...</td>\n",
       "      <td>...</td>\n",
       "      <td>...</td>\n",
       "      <td>...</td>\n",
       "    </tr>\n",
       "    <tr>\n",
       "      <th>56.0</th>\n",
       "      <td>1055.0</td>\n",
       "      <td>87.0</td>\n",
       "      <td>913.42</td>\n",
       "      <td>410.52</td>\n",
       "      <td>507.04</td>\n",
       "      <td>77.46</td>\n",
       "      <td>43.08</td>\n",
       "      <td>1040.18</td>\n",
       "      <td>48.0</td>\n",
       "      <td>0.0</td>\n",
       "      <td>1728.0</td>\n",
       "    </tr>\n",
       "    <tr>\n",
       "      <th>43.0</th>\n",
       "      <td>1679.0</td>\n",
       "      <td>79.0</td>\n",
       "      <td>483.21</td>\n",
       "      <td>162.00</td>\n",
       "      <td>309.00</td>\n",
       "      <td>227.05</td>\n",
       "      <td>101.09</td>\n",
       "      <td>817.24</td>\n",
       "      <td>39.0</td>\n",
       "      <td>0.0</td>\n",
       "      <td>4480.0</td>\n",
       "    </tr>\n",
       "    <tr>\n",
       "      <th>69.0</th>\n",
       "      <td>1495.0</td>\n",
       "      <td>125.0</td>\n",
       "      <td>2910.03</td>\n",
       "      <td>1431.78</td>\n",
       "      <td>1517.81</td>\n",
       "      <td>446.94</td>\n",
       "      <td>401.45</td>\n",
       "      <td>3817.75</td>\n",
       "      <td>20.0</td>\n",
       "      <td>1.0</td>\n",
       "      <td>1793.0</td>\n",
       "    </tr>\n",
       "    <tr>\n",
       "      <th>16.0</th>\n",
       "      <td>1045.0</td>\n",
       "      <td>124.0</td>\n",
       "      <td>1179.07</td>\n",
       "      <td>522.49</td>\n",
       "      <td>661.78</td>\n",
       "      <td>210.96</td>\n",
       "      <td>93.63</td>\n",
       "      <td>1498.11</td>\n",
       "      <td>49.0</td>\n",
       "      <td>1.0</td>\n",
       "      <td>2075.0</td>\n",
       "    </tr>\n",
       "    <tr>\n",
       "      <th>26.0</th>\n",
       "      <td>2088.0</td>\n",
       "      <td>98.0</td>\n",
       "      <td>962.30</td>\n",
       "      <td>533.03</td>\n",
       "      <td>459.72</td>\n",
       "      <td>370.88</td>\n",
       "      <td>142.89</td>\n",
       "      <td>1477.31</td>\n",
       "      <td>51.0</td>\n",
       "      <td>1.0</td>\n",
       "      <td>1599.0</td>\n",
       "    </tr>\n",
       "  </tbody>\n",
       "</table>\n",
       "<p>79 rows × 11 columns</p>\n",
       "</div>"
      ],
      "text/plain": [
       "      MO_HLADR_MFI_cellsul  Neu_CD64MFI_cellsul  CD3T_cellsul  CD8T_cellsul  \\\n",
       "id                                                                            \n",
       "9.0                 1412.0                243.0       1177.19        684.42   \n",
       "84.0                 634.0               1002.0       1300.00        558.00   \n",
       "19.0                 403.0                555.0        313.48        131.53   \n",
       "38.0                1010.0               1384.0        570.13        312.90   \n",
       "2.0                 1586.0                 71.0       1332.74        684.20   \n",
       "...                    ...                  ...           ...           ...   \n",
       "56.0                1055.0                 87.0        913.42        410.52   \n",
       "43.0                1679.0                 79.0        483.21        162.00   \n",
       "69.0                1495.0                125.0       2910.03       1431.78   \n",
       "16.0                1045.0                124.0       1179.07        522.49   \n",
       "26.0                2088.0                 98.0        962.30        533.03   \n",
       "\n",
       "      CD4T_cellsul  NK_cellsul  CD19_cellsul  CD45_cellsul   Age  Sex_0M1F  \\\n",
       "id                                                                           \n",
       "9.0         490.50      185.30         67.22       1441.06  36.0       1.0   \n",
       "84.0        724.00       67.00        105.00       1484.26  34.0       0.0   \n",
       "19.0        182.69       46.68          7.90        370.30  40.0       0.0   \n",
       "38.0        233.84       80.17         31.18        702.08  56.0       1.0   \n",
       "2.0         655.26      244.95        216.52       1820.04  28.0       1.0   \n",
       "...            ...         ...           ...           ...   ...       ...   \n",
       "56.0        507.04       77.46         43.08       1040.18  48.0       0.0   \n",
       "43.0        309.00      227.05        101.09        817.24  39.0       0.0   \n",
       "69.0       1517.81      446.94        401.45       3817.75  20.0       1.0   \n",
       "16.0        661.78      210.96         93.63       1498.11  49.0       1.0   \n",
       "26.0        459.72      370.88        142.89       1477.31  51.0       1.0   \n",
       "\n",
       "      Mono_CD64MFI_cellsul  \n",
       "id                          \n",
       "9.0                 1213.0  \n",
       "84.0                2926.0  \n",
       "19.0                2209.0  \n",
       "38.0                5501.0  \n",
       "2.0                 1311.0  \n",
       "...                    ...  \n",
       "56.0                1728.0  \n",
       "43.0                4480.0  \n",
       "69.0                1793.0  \n",
       "16.0                2075.0  \n",
       "26.0                1599.0  \n",
       "\n",
       "[79 rows x 11 columns]"
      ]
     },
     "execution_count": 10,
     "metadata": {},
     "output_type": "execute_result"
    }
   ],
   "source": [
    "train_x = df_train[feature_names]\n",
    "train_y = df_train[label_name]\n",
    "\n",
    "test_x = validation_x = df_validation[feature_names]\n",
    "test_y = validation_y = df_validation[label_name]\n",
    "\n",
    "train_x"
   ]
  },
  {
   "cell_type": "markdown",
   "id": "5e212d72",
   "metadata": {
    "id": "5e212d72"
   },
   "source": [
    "# Comparison of Classifiers\n",
    "\n",
    "You are required to implement the following classifiers and compare the performance achieved by different classifiers.\n",
    "\n",
    "* Decision Tree\n",
    "\n",
    "    You should build decision trees on the dataset in terms of entropy and gini criterions. For each criterion, you should set the depth as {5,10,15,20} respectively. You need to compare the performance *(accuracy, precision, recall, f1 score and training time)* and give a brief discussion.\n",
    "\n",
    "\n",
    "* KNN, Random Forest\n",
    "\n",
    "    Apply three different classifiers KNN and Random Forest on the dataset. For each classifier, evaluate the performance *(accuracy, precision, recall, f1 score and training time)*. You are required to compare the performance of different classifiers and give a brief discussion."
   ]
  },
  {
   "cell_type": "markdown",
   "id": "cd7ec596",
   "metadata": {
    "id": "cd7ec596"
   },
   "source": [
    "## Decision Tree"
   ]
  },
  {
   "cell_type": "markdown",
   "id": "c832f22d",
   "metadata": {
    "id": "c832f22d"
   },
   "source": [
    "### Training \n"
   ]
  },
  {
   "cell_type": "code",
   "execution_count": 11,
   "id": "126522ef",
   "metadata": {
    "ExecuteTime": {
     "end_time": "2022-04-05T11:46:58.014568Z",
     "start_time": "2022-04-05T11:46:58.005163Z"
    },
    "executionInfo": {
     "elapsed": 166,
     "status": "ok",
     "timestamp": 1649158354469,
     "user": {
      "displayName": "msc work",
      "userId": "10004626043936594729"
     },
     "user_tz": -480
    },
    "id": "126522ef"
   },
   "outputs": [],
   "source": [
    "def trainModels(models, x_train: np.array, y_train: np.array) -> Iterable:\n",
    "    '''Train the models, return trained models.\n",
    "    '''\n",
    "    trained = []\n",
    "    training_times = []\n",
    "\n",
    "#     trained = [model.fit(x_train, y_train) for model in models]\n",
    "    for model in models:\n",
    "        start_time = time.time()\n",
    "        model = model.fit(x_train, y_train)\n",
    "        elapsed_time = time.time() - start_time\n",
    "        training_times.append(elapsed_time)\n",
    "        trained.append(model)\n",
    "        print(f'{elapsed_time:.4f}s elapsed during training')\n",
    "    \n",
    "    return trained, training_times\n",
    "    "
   ]
  },
  {
   "cell_type": "markdown",
   "id": "561d8b08",
   "metadata": {
    "id": "561d8b08"
   },
   "source": [
    "#### (1) criterion = 'entropy'"
   ]
  },
  {
   "cell_type": "code",
   "execution_count": 12,
   "id": "7cde4498",
   "metadata": {
    "ExecuteTime": {
     "end_time": "2022-04-05T11:46:58.048333Z",
     "start_time": "2022-04-05T11:46:58.020051Z"
    },
    "colab": {
     "base_uri": "https://localhost:8080/",
     "height": 156
    },
    "executionInfo": {
     "elapsed": 715,
     "status": "ok",
     "timestamp": 1649158355019,
     "user": {
      "displayName": "msc work",
      "userId": "10004626043936594729"
     },
     "user_tz": -480
    },
    "id": "7cde4498",
    "outputId": "68447f4b-d727-4395-e950-8ae1f48c2417"
   },
   "outputs": [
    {
     "data": {
      "text/plain": [
       "[DecisionTreeClassifier(criterion='entropy', max_depth=5),\n",
       " DecisionTreeClassifier(criterion='entropy', max_depth=10),\n",
       " DecisionTreeClassifier(criterion='entropy', max_depth=15),\n",
       " DecisionTreeClassifier(criterion='entropy', max_depth=20)]"
      ]
     },
     "metadata": {},
     "output_type": "display_data"
    },
    {
     "name": "stdout",
     "output_type": "stream",
     "text": [
      "0.0049s elapsed during training\n",
      "0.0035s elapsed during training\n",
      "0.0037s elapsed during training\n",
      "0.0027s elapsed during training\n"
     ]
    }
   ],
   "source": [
    "\n",
    "criterion = 'entropy'\n",
    "max_depths = [5,10,15,20]\n",
    "\n",
    "# Create a Decision Tree Classifier objects\n",
    "dectrees_entropy = [DecisionTreeClassifier(criterion=criterion,max_depth=depth) for depth in max_depths]\n",
    "display(dectrees_entropy)\n",
    "\n",
    "# Train the Decision Tree Classifier model\n",
    "trained_dectrees_entropy, dectree_entropy_training_times = trainModels(dectrees_entropy, train_x, train_y)\n",
    "\n",
    "# trained_dectrees_entropy\n"
   ]
  },
  {
   "cell_type": "code",
   "execution_count": 13,
   "id": "g3HnEpy6FAby",
   "metadata": {
    "ExecuteTime": {
     "end_time": "2022-04-05T11:46:58.060070Z",
     "start_time": "2022-04-05T11:46:58.051792Z"
    },
    "colab": {
     "base_uri": "https://localhost:8080/"
    },
    "executionInfo": {
     "elapsed": 39,
     "status": "ok",
     "timestamp": 1649158355019,
     "user": {
      "displayName": "msc work",
      "userId": "10004626043936594729"
     },
     "user_tz": -480
    },
    "id": "g3HnEpy6FAby",
    "outputId": "593b846a-b2c1-4a5f-b4d0-2c09ed5df4d1"
   },
   "outputs": [
    {
     "data": {
      "text/plain": [
       "('DecisionTreeClassifier', 'entropy', 5)"
      ]
     },
     "execution_count": 13,
     "metadata": {},
     "output_type": "execute_result"
    }
   ],
   "source": [
    "m = trained_dectrees_entropy[0]\n",
    "m.__class__.__name__ , m.criterion, m.max_depth"
   ]
  },
  {
   "cell_type": "markdown",
   "id": "57a8f8c6",
   "metadata": {
    "id": "57a8f8c6"
   },
   "source": [
    "#### (2) criterion = 'gini'"
   ]
  },
  {
   "cell_type": "code",
   "execution_count": 14,
   "id": "4221767a",
   "metadata": {
    "ExecuteTime": {
     "end_time": "2022-04-05T11:46:58.087654Z",
     "start_time": "2022-04-05T11:46:58.063643Z"
    },
    "colab": {
     "base_uri": "https://localhost:8080/",
     "height": 156
    },
    "executionInfo": {
     "elapsed": 33,
     "status": "ok",
     "timestamp": 1649158355020,
     "user": {
      "displayName": "msc work",
      "userId": "10004626043936594729"
     },
     "user_tz": -480
    },
    "id": "4221767a",
    "outputId": "aca789f5-fd6a-4771-c2ec-47960d95c8d0"
   },
   "outputs": [
    {
     "data": {
      "text/plain": [
       "[DecisionTreeClassifier(max_depth=5),\n",
       " DecisionTreeClassifier(max_depth=10),\n",
       " DecisionTreeClassifier(max_depth=15),\n",
       " DecisionTreeClassifier(max_depth=20)]"
      ]
     },
     "metadata": {},
     "output_type": "display_data"
    },
    {
     "name": "stdout",
     "output_type": "stream",
     "text": [
      "0.0045s elapsed during training\n",
      "0.0038s elapsed during training\n",
      "0.0029s elapsed during training\n",
      "0.0024s elapsed during training\n"
     ]
    }
   ],
   "source": [
    "criterion = 'gini'\n",
    "max_depths = [5,10,15,20]\n",
    "\n",
    "# Create a Decision Tree Classifier objects\n",
    "dectrees_gini = [DecisionTreeClassifier(criterion=criterion,max_depth=depth) for depth in max_depths]\n",
    "display(dectrees_gini)\n",
    "\n",
    "# Train the Decision Tree Classifier model\n",
    "trained_dectrees_gini, dectree_gini_training_times = trainModels(dectrees_gini, train_x, train_y)\n",
    "\n",
    "# trained_dectrees_gini\n"
   ]
  },
  {
   "cell_type": "markdown",
   "id": "b255c610",
   "metadata": {
    "id": "b255c610"
   },
   "source": [
    "### Testing \n",
    "\n",
    "Compare the metrics (accuracy, precision, recall, f1 score and training time)"
   ]
  },
  {
   "cell_type": "markdown",
   "id": "6zicouYlBkao",
   "metadata": {
    "id": "6zicouYlBkao"
   },
   "source": [
    "#### save trained model function\n",
    "https://scikit-learn.org/stable/modules/model_persistence.html"
   ]
  },
  {
   "cell_type": "code",
   "execution_count": 15,
   "id": "27boPdx8BkD-",
   "metadata": {
    "ExecuteTime": {
     "end_time": "2022-04-05T11:46:58.098539Z",
     "start_time": "2022-04-05T11:46:58.090753Z"
    },
    "executionInfo": {
     "elapsed": 33,
     "status": "ok",
     "timestamp": 1649158355021,
     "user": {
      "displayName": "msc work",
      "userId": "10004626043936594729"
     },
     "user_tz": -480
    },
    "id": "27boPdx8BkD-"
   },
   "outputs": [],
   "source": [
    "def saveModel(model,\n",
    "              arruracy,\n",
    "              precision,\n",
    "              recall,\n",
    "              f1,\n",
    "              folder = 'models'):\n",
    "    \n",
    "    if not os.path.exists(folder):\n",
    "        os.makedirs(folder)\n",
    "\n",
    "    arruracy = f'{arruracy:.3f}'\n",
    "    model_filename_map = {\n",
    "        'DecisionTreeClassifier' : lambda : f'dectree_{model.criterion}_{model.max_depth}depth_{arruracy}acc.joblib',\n",
    "        'KNeighborsClassifier'   : lambda : f'knn_{model.n_neighbors}n_{arruracy}acc.joblib',\n",
    "        'RandomForestClassifier' : lambda : f'rforest_{model.n_estimators}estimators_{arruracy}acc.joblib',\n",
    "        }\n",
    "\n",
    "    dump(model, f'{folder}/{model_filename_map[model.__class__.__name__]()}')"
   ]
  },
  {
   "cell_type": "markdown",
   "id": "dXQt4Nm0Qigt",
   "metadata": {
    "id": "dXQt4Nm0Qigt"
   },
   "source": [
    "#### testing functions"
   ]
  },
  {
   "cell_type": "code",
   "execution_count": 16,
   "id": "ef72e2c6",
   "metadata": {
    "ExecuteTime": {
     "end_time": "2022-04-05T11:46:58.111700Z",
     "start_time": "2022-04-05T11:46:58.104362Z"
    },
    "executionInfo": {
     "elapsed": 35,
     "status": "ok",
     "timestamp": 1649158355024,
     "user": {
      "displayName": "msc work",
      "userId": "10004626043936594729"
     },
     "user_tz": -480
    },
    "id": "ef72e2c6"
   },
   "outputs": [],
   "source": [
    "def evaluate(y_true: np.array, y_pred: np.array) -> Iterable[float]:\n",
    "    import warnings\n",
    "    warnings.filterwarnings('ignore')\n",
    "    \n",
    "    print('Label(s) that never appear in prediction: ', set(y_true) - set(y_pred)) \n",
    "    \n",
    "    # Print the Classification report\n",
    "    arruracy = accuracy_score(y_true, y_pred)\n",
    "    precision = precision_score(y_true, y_pred, labels=labels, average='macro')\n",
    "    recall = recall_score(y_true, y_pred, labels=labels, average='macro')\n",
    "    f1 = f1_score(y_true, y_pred, labels=labels, average='macro')\n",
    "\n",
    "#     print('classification_report() =\\n', classification_report(y_true, list(y_pred), digits=5))    \n",
    "#     plotConfusionMatrix(y_true, y_pred)   \n",
    "\n",
    "    return arruracy, precision, recall, f1\n",
    "\n",
    "\n",
    "def plotConfusionMatrix(y_true: np.array, y_pred: np.array):\n",
    "    # Plot the two-way Confusion Matrix\n",
    "    fig, ax = plt.subplots(ncols=1)\n",
    "    sb.heatmap(confusion_matrix(y_true, y_pred),\n",
    "               annot = True, \n",
    "               fmt=\".0f\", \n",
    "#                annot_kws={\"size\": 18}\n",
    "              )\n",
    "    ax.set_xlabel('Predictions')\n",
    "    ax.set_ylabel('Actuals')\n",
    "\n",
    "    plt.show()\n",
    "\n",
    "\n",
    "def average(ls: list) -> int:\n",
    "    ls = list(ls)\n",
    "    return sum(ls)/len(ls)\n",
    "    "
   ]
  },
  {
   "cell_type": "code",
   "execution_count": 17,
   "id": "196cfdea",
   "metadata": {
    "ExecuteTime": {
     "end_time": "2022-04-05T11:46:58.124825Z",
     "start_time": "2022-04-05T11:46:58.115138Z"
    },
    "executionInfo": {
     "elapsed": 36,
     "status": "ok",
     "timestamp": 1649158355026,
     "user": {
      "displayName": "msc work",
      "userId": "10004626043936594729"
     },
     "user_tz": -480
    },
    "id": "196cfdea"
   },
   "outputs": [],
   "source": [
    "def testModels(models, \n",
    "               x_train: np.array, y_train: np.array, \n",
    "               x_test: np.array, y_test: np.array, \n",
    "               time_training_ls: list\n",
    "              ) -> Iterable:\n",
    "    \n",
    "    pred_y_list = []\n",
    "    arruracy_ls = []\n",
    "    precision_ls = []\n",
    "    recall_ls = []\n",
    "    f1_ls = []\n",
    "\n",
    "    for model, time_training in zip(models, time_training_ls):\n",
    "        print(model)\n",
    "        print(model.__class__.__name__)\n",
    "\n",
    "        # For training data\n",
    "        pred_y_train = model.predict(x_train)\n",
    "        print('>>> For training data')\n",
    "        print('arruracy, precision, recall, f1=', evaluate(y_train, pred_y_train))\n",
    "        print()\n",
    "        \n",
    "        # For testing data\n",
    "        print('>>> For testing data')\n",
    "        pred_y = model.predict(x_test)\n",
    "        pred_y_list.append(pred_y)\n",
    "        print('pred_y[:5] =', pred_y[:5])\n",
    "        \n",
    "        # Evalution metrics\n",
    "        arruracy, precision, recall, f1 = evaluate(y_test, pred_y)\n",
    "        arruracy_ls.append(arruracy)\n",
    "        precision_ls.append(precision)\n",
    "        recall_ls.append(recall)\n",
    "        f1_ls.append(f1)\n",
    "        print(f'arruracy, precision, recall, f1 = {arruracy:.4f}, {precision:.4f}, {recall:.4f}, {f1:.4f}')\n",
    "        print()\n",
    "\n",
    "#         print('classification_report() =\\n', classification_report(y_true, list(y_pred), digits=5))    \n",
    "#         plotConfusionMatrix(y_true, y_pred)  \n",
    "        print(f'Training time:\\t{time_training:.4f}s')\n",
    "\n",
    "        # Save model to storage\n",
    "        saveModel(model, arruracy, precision, recall, f1)\n",
    "        print('>>> Model saved')\n",
    "        print('=========================\\n')\n",
    "\n",
    "    print('average training time (s) =', average(time_training_ls))\n",
    "    print('average arruracy \\t=', average(arruracy_ls))\n",
    "    print('average precision \\t=', average(precision_ls))\n",
    "    print('average recall \\t\\t=', average(recall_ls))\n",
    "    print('average f1 score \\t=', average(f1_ls))\n",
    "    \n",
    "    # return pred_y_list, arruracy_ls, precision_ls, recall_ls, f1_ls\n"
   ]
  },
  {
   "cell_type": "markdown",
   "id": "b6b7bb0f",
   "metadata": {
    "id": "b6b7bb0f"
   },
   "source": [
    "#### entropy"
   ]
  },
  {
   "cell_type": "code",
   "execution_count": 18,
   "id": "a17f25bb",
   "metadata": {
    "ExecuteTime": {
     "end_time": "2022-04-05T11:46:58.222776Z",
     "start_time": "2022-04-05T11:46:58.127994Z"
    },
    "colab": {
     "base_uri": "https://localhost:8080/"
    },
    "executionInfo": {
     "elapsed": 37,
     "status": "ok",
     "timestamp": 1649158355027,
     "user": {
      "displayName": "msc work",
      "userId": "10004626043936594729"
     },
     "user_tz": -480
    },
    "id": "a17f25bb",
    "outputId": "d192213d-d8c3-4fa0-a752-2148f9272ad0",
    "scrolled": false
   },
   "outputs": [
    {
     "name": "stdout",
     "output_type": "stream",
     "text": [
      "DecisionTreeClassifier(criterion='entropy', max_depth=5)\n",
      "DecisionTreeClassifier\n",
      ">>> For training data\n",
      "Label(s) that never appear in prediction:  set()\n",
      "arruracy, precision, recall, f1= (0.9746835443037974, 0.9811320754716981, 0.9642857142857143, 0.9718660968660968)\n",
      "\n",
      ">>> For testing data\n",
      "pred_y[:5] = [0. 0. 0. 1. 0.]\n",
      "Label(s) that never appear in prediction:  set()\n",
      "arruracy, precision, recall, f1 = 1.0000, 1.0000, 1.0000, 1.0000\n",
      "\n",
      "Training time:\t0.0049s\n",
      ">>> Model saved\n",
      "=========================\n",
      "\n",
      "DecisionTreeClassifier(criterion='entropy', max_depth=10)\n",
      "DecisionTreeClassifier\n",
      ">>> For training data\n",
      "Label(s) that never appear in prediction:  set()\n",
      "arruracy, precision, recall, f1= (1.0, 1.0, 1.0, 1.0)\n",
      "\n",
      ">>> For testing data\n",
      "pred_y[:5] = [1. 0. 0. 1. 1.]\n",
      "Label(s) that never appear in prediction:  set()\n",
      "arruracy, precision, recall, f1 = 0.7143, 0.6667, 0.8333, 0.6500\n",
      "\n",
      "Training time:\t0.0035s\n",
      ">>> Model saved\n",
      "=========================\n",
      "\n",
      "DecisionTreeClassifier(criterion='entropy', max_depth=15)\n",
      "DecisionTreeClassifier\n",
      ">>> For training data\n",
      "Label(s) that never appear in prediction:  set()\n",
      "arruracy, precision, recall, f1= (1.0, 1.0, 1.0, 1.0)\n",
      "\n",
      ">>> For testing data\n",
      "pred_y[:5] = [1. 0. 0. 1. 1.]\n",
      "Label(s) that never appear in prediction:  set()\n",
      "arruracy, precision, recall, f1 = 0.7143, 0.6667, 0.8333, 0.6500\n",
      "\n",
      "Training time:\t0.0037s\n",
      ">>> Model saved\n",
      "=========================\n",
      "\n",
      "DecisionTreeClassifier(criterion='entropy', max_depth=20)\n",
      "DecisionTreeClassifier\n",
      ">>> For training data\n",
      "Label(s) that never appear in prediction:  set()\n",
      "arruracy, precision, recall, f1= (1.0, 1.0, 1.0, 1.0)\n",
      "\n",
      ">>> For testing data\n",
      "pred_y[:5] = [1. 0. 0. 1. 1.]\n",
      "Label(s) that never appear in prediction:  set()\n",
      "arruracy, precision, recall, f1 = 0.7143, 0.6667, 0.8333, 0.6500\n",
      "\n",
      "Training time:\t0.0027s\n",
      ">>> Model saved\n",
      "=========================\n",
      "\n",
      "average training time (s) = 0.003686249256134033\n",
      "average arruracy \t= 0.7857142857142858\n",
      "average precision \t= 0.7499999999999999\n",
      "average recall \t\t= 0.875\n",
      "average f1 score \t= 0.7374999999999999\n"
     ]
    }
   ],
   "source": [
    "testModels(trained_dectrees_entropy, train_x, train_y, test_x, test_y, dectree_entropy_training_times)\n",
    "\n"
   ]
  },
  {
   "cell_type": "markdown",
   "id": "af746bb3",
   "metadata": {
    "id": "af746bb3"
   },
   "source": [
    "#### gini"
   ]
  },
  {
   "cell_type": "code",
   "execution_count": 19,
   "id": "ea3282ab",
   "metadata": {
    "ExecuteTime": {
     "end_time": "2022-04-05T11:46:58.306874Z",
     "start_time": "2022-04-05T11:46:58.226060Z"
    },
    "colab": {
     "base_uri": "https://localhost:8080/"
    },
    "executionInfo": {
     "elapsed": 34,
     "status": "ok",
     "timestamp": 1649158355028,
     "user": {
      "displayName": "msc work",
      "userId": "10004626043936594729"
     },
     "user_tz": -480
    },
    "id": "ea3282ab",
    "outputId": "efedfb68-b0e9-44ed-c3b5-f625e56056ec",
    "scrolled": false
   },
   "outputs": [
    {
     "name": "stdout",
     "output_type": "stream",
     "text": [
      "DecisionTreeClassifier(max_depth=5)\n",
      "DecisionTreeClassifier\n",
      ">>> For training data\n",
      "Label(s) that never appear in prediction:  set()\n",
      "arruracy, precision, recall, f1= (1.0, 1.0, 1.0, 1.0)\n",
      "\n",
      ">>> For testing data\n",
      "pred_y[:5] = [0. 0. 0. 1. 0.]\n",
      "Label(s) that never appear in prediction:  set()\n",
      "arruracy, precision, recall, f1 = 1.0000, 1.0000, 1.0000, 1.0000\n",
      "\n",
      "Training time:\t0.0045s\n",
      ">>> Model saved\n",
      "=========================\n",
      "\n",
      "DecisionTreeClassifier(max_depth=10)\n",
      "DecisionTreeClassifier\n",
      ">>> For training data\n",
      "Label(s) that never appear in prediction:  set()\n",
      "arruracy, precision, recall, f1= (1.0, 1.0, 1.0, 1.0)\n",
      "\n",
      ">>> For testing data\n",
      "pred_y[:5] = [0. 1. 0. 1. 0.]\n",
      "Label(s) that never appear in prediction:  set()\n",
      "arruracy, precision, recall, f1 = 0.8571, 0.7500, 0.9167, 0.7879\n",
      "\n",
      "Training time:\t0.0038s\n",
      ">>> Model saved\n",
      "=========================\n",
      "\n",
      "DecisionTreeClassifier(max_depth=15)\n",
      "DecisionTreeClassifier\n",
      ">>> For training data\n",
      "Label(s) that never appear in prediction:  set()\n",
      "arruracy, precision, recall, f1= (1.0, 1.0, 1.0, 1.0)\n",
      "\n",
      ">>> For testing data\n",
      "pred_y[:5] = [0. 1. 0. 1. 0.]\n",
      "Label(s) that never appear in prediction:  set()\n",
      "arruracy, precision, recall, f1 = 0.8571, 0.7500, 0.9167, 0.7879\n",
      "\n",
      "Training time:\t0.0029s\n",
      ">>> Model saved\n",
      "=========================\n",
      "\n",
      "DecisionTreeClassifier(max_depth=20)\n",
      "DecisionTreeClassifier\n",
      ">>> For training data\n",
      "Label(s) that never appear in prediction:  set()\n",
      "arruracy, precision, recall, f1= (1.0, 1.0, 1.0, 1.0)\n",
      "\n",
      ">>> For testing data\n",
      "pred_y[:5] = [0. 0. 0. 1. 0.]\n",
      "Label(s) that never appear in prediction:  set()\n",
      "arruracy, precision, recall, f1 = 1.0000, 1.0000, 1.0000, 1.0000\n",
      "\n",
      "Training time:\t0.0024s\n",
      ">>> Model saved\n",
      "=========================\n",
      "\n",
      "average training time (s) = 0.0034074783325195312\n",
      "average arruracy \t= 0.9285714285714286\n",
      "average precision \t= 0.875\n",
      "average recall \t\t= 0.9583333333333334\n",
      "average f1 score \t= 0.8939393939393939\n"
     ]
    }
   ],
   "source": [
    "testModels(trained_dectrees_gini, train_x, train_y, test_x, test_y, dectree_gini_training_times)\n"
   ]
  },
  {
   "cell_type": "markdown",
   "id": "796f8468",
   "metadata": {
    "id": "796f8468"
   },
   "source": [
    "### brief discussion - Decision Tree with entropy vs gini\n",
    "\n",
    "Their training times are short. \n",
    "\n",
    "But their accuracy, precision, recall and f1 score are similar and relatively low (~= 50% or even < 50%, worse than random guess).\n",
    "\n",
    "<!-- \n",
    "|                   | entropy| gini   |\n",
    "|-------------------|--------|--------|\n",
    "| **training time** | slower | faster |\n",
    "| **arruracy**      | similar| similar|\n",
    "| **precision**     | higher | lower  |\n",
    "| **recall**        | higher | lower  |\n",
    "| **f1 score**      | higher | lower  | -->\n",
    "\n"
   ]
  },
  {
   "cell_type": "markdown",
   "id": "1c827bbd",
   "metadata": {
    "id": "1c827bbd"
   },
   "source": [
    "## KNN"
   ]
  },
  {
   "cell_type": "markdown",
   "id": "69570bab",
   "metadata": {
    "id": "69570bab"
   },
   "source": [
    "### Normalizing the data\n",
    "\n",
    "KNN is a distance-based algorithm, it is using distances between data points to determine their similarity. It is sensitive to distances between features.\n",
    "\n",
    "The difference of value in features in dataset are large, so we need to normalize them.\n",
    "\n",
    "https://www.analyticsvidhya.com/blog/2020/04/feature-scaling-machine-learning-normalization-standardization/\n",
    "\n",
    "https://scikit-learn.org/stable/modules/generated/sklearn.preprocessing.MinMaxScaler.html"
   ]
  },
  {
   "cell_type": "code",
   "execution_count": 20,
   "id": "703bac1f",
   "metadata": {
    "ExecuteTime": {
     "end_time": "2022-04-05T11:46:58.324838Z",
     "start_time": "2022-04-05T11:46:58.310053Z"
    },
    "colab": {
     "base_uri": "https://localhost:8080/"
    },
    "executionInfo": {
     "elapsed": 31,
     "status": "ok",
     "timestamp": 1649158355029,
     "user": {
      "displayName": "msc work",
      "userId": "10004626043936594729"
     },
     "user_tz": -480
    },
    "id": "703bac1f",
    "outputId": "d9221c6d-aad5-4a1a-b72f-351a0657ad41"
   },
   "outputs": [
    {
     "data": {
      "text/plain": [
       "array([[0.32234069, 0.06884292, 0.29670176, 0.25793851, 0.30503579,\n",
       "        0.21103822, 0.13083918, 0.27084474, 0.41463415, 1.        ,\n",
       "        0.1532984 ],\n",
       "       [0.12943218, 0.31415643, 0.32974336, 0.20760186, 0.46299604,\n",
       "        0.07630632, 0.20927625, 0.28034336, 0.36585366, 0.        ,\n",
       "        0.38344753]])"
      ]
     },
     "execution_count": 20,
     "metadata": {},
     "output_type": "execute_result"
    }
   ],
   "source": [
    "# fit scaler on training data\n",
    "# scaler = MinMaxScaler().fit(train_x)\n",
    "scaler = MinMaxScaler().fit(df_train[feature_names])\n",
    "\n",
    "# transform train data\n",
    "# train_norm_x = scaler.transform(train_x)\n",
    "train_norm_x = scaler.transform(df_train[feature_names])\n",
    "# transform test data\n",
    "# test_norm_x = scaler.transform(test_x)\n",
    "test_norm_x = scaler.transform(df_validation[feature_names])\n",
    "\n",
    "train_norm_x[:2]\n"
   ]
  },
  {
   "cell_type": "markdown",
   "id": "627d0070",
   "metadata": {
    "id": "627d0070"
   },
   "source": [
    "### Train KNN\n",
    "Documentation of K-Neighbors Classifier (KNN): \n",
    "\n",
    "1. https://scikit-learn.org/stable/modules/generated/sklearn.neighbors.KNeighborsClassifier.html\n",
    "2. https://www.analyticsvidhya.com/blog/2017/09/common-machine-learning-algorithms/"
   ]
  },
  {
   "cell_type": "code",
   "execution_count": 21,
   "id": "755c6cd9",
   "metadata": {
    "ExecuteTime": {
     "end_time": "2022-04-05T11:46:58.338853Z",
     "start_time": "2022-04-05T11:46:58.328068Z"
    },
    "colab": {
     "base_uri": "https://localhost:8080/"
    },
    "executionInfo": {
     "elapsed": 27,
     "status": "ok",
     "timestamp": 1649158355029,
     "user": {
      "displayName": "msc work",
      "userId": "10004626043936594729"
     },
     "user_tz": -480
    },
    "id": "755c6cd9",
    "outputId": "5e964419-0ee2-4f60-95c6-06ef42cb11de"
   },
   "outputs": [
    {
     "name": "stdout",
     "output_type": "stream",
     "text": [
      "0.0008s elapsed during training\n",
      "0.0014s elapsed during training\n",
      "0.0015s elapsed during training\n",
      "0.0010s elapsed during training\n"
     ]
    }
   ],
   "source": [
    "n_neighbors = [1,3,9,11]\n",
    "knn_models = [KNeighborsClassifier(n_neighbors=k) for k in n_neighbors]\n",
    "\n",
    "# fit the model with the training data\n",
    "knn_models, knn_training_times = trainModels(knn_models, train_norm_x, train_y)"
   ]
  },
  {
   "cell_type": "code",
   "execution_count": 22,
   "id": "6nqHiuWWFpnI",
   "metadata": {
    "ExecuteTime": {
     "end_time": "2022-04-05T11:46:58.355875Z",
     "start_time": "2022-04-05T11:46:58.351351Z"
    },
    "colab": {
     "base_uri": "https://localhost:8080/"
    },
    "executionInfo": {
     "elapsed": 25,
     "status": "ok",
     "timestamp": 1649158355030,
     "user": {
      "displayName": "msc work",
      "userId": "10004626043936594729"
     },
     "user_tz": -480
    },
    "id": "6nqHiuWWFpnI",
    "outputId": "78bd9eb4-f8d9-42cc-ab23-fef301962602"
   },
   "outputs": [
    {
     "data": {
      "text/plain": [
       "('KNeighborsClassifier', 1)"
      ]
     },
     "execution_count": 22,
     "metadata": {},
     "output_type": "execute_result"
    }
   ],
   "source": [
    "m = knn_models[0]\n",
    "m.__class__.__name__ , m.n_neighbors"
   ]
  },
  {
   "cell_type": "markdown",
   "id": "53d15f1f",
   "metadata": {
    "id": "53d15f1f"
   },
   "source": [
    "### Test KNN"
   ]
  },
  {
   "cell_type": "code",
   "execution_count": 23,
   "id": "599faeca",
   "metadata": {
    "ExecuteTime": {
     "end_time": "2022-04-05T11:46:58.544494Z",
     "start_time": "2022-04-05T11:46:58.363157Z"
    },
    "colab": {
     "base_uri": "https://localhost:8080/"
    },
    "executionInfo": {
     "elapsed": 617,
     "status": "ok",
     "timestamp": 1649158355625,
     "user": {
      "displayName": "msc work",
      "userId": "10004626043936594729"
     },
     "user_tz": -480
    },
    "id": "599faeca",
    "outputId": "5c272ab1-9d34-4822-e808-bacac1c6b4a4",
    "scrolled": false
   },
   "outputs": [
    {
     "name": "stdout",
     "output_type": "stream",
     "text": [
      "KNeighborsClassifier(n_neighbors=1)\n",
      "KNeighborsClassifier\n",
      ">>> For training data\n",
      "Label(s) that never appear in prediction:  set()\n",
      "arruracy, precision, recall, f1= (1.0, 1.0, 1.0, 1.0)\n",
      "\n",
      ">>> For testing data\n",
      "pred_y[:5] = [0. 0. 1. 1. 0.]\n",
      "Label(s) that never appear in prediction:  set()\n",
      "arruracy, precision, recall, f1 = 0.8571, 0.7500, 0.9167, 0.7879\n",
      "\n",
      "Training time:\t0.0008s\n",
      ">>> Model saved\n",
      "=========================\n",
      "\n",
      "KNeighborsClassifier(n_neighbors=3)\n",
      "KNeighborsClassifier\n",
      ">>> For training data\n",
      "Label(s) that never appear in prediction:  set()\n",
      "arruracy, precision, recall, f1= (0.8481012658227848, 0.843939393939394, 0.8179271708683473, 0.8280116110304789)\n",
      "\n",
      ">>> For testing data\n",
      "pred_y[:5] = [0. 0. 1. 1. 0.]\n",
      "Label(s) that never appear in prediction:  set()\n",
      "arruracy, precision, recall, f1 = 0.8571, 0.7500, 0.9167, 0.7879\n",
      "\n",
      "Training time:\t0.0014s\n",
      ">>> Model saved\n",
      "=========================\n",
      "\n",
      "KNeighborsClassifier(n_neighbors=9)\n",
      "KNeighborsClassifier\n",
      ">>> For training data\n",
      "Label(s) that never appear in prediction:  set()\n",
      "arruracy, precision, recall, f1= (0.8227848101265823, 0.8460837887067395, 0.7661064425770308, 0.7853260869565217)\n",
      "\n",
      ">>> For testing data\n",
      "pred_y[:5] = [0. 0. 0. 1. 0.]\n",
      "Label(s) that never appear in prediction:  set()\n",
      "arruracy, precision, recall, f1 = 1.0000, 1.0000, 1.0000, 1.0000\n",
      "\n",
      "Training time:\t0.0015s\n",
      ">>> Model saved\n",
      "=========================\n",
      "\n",
      "KNeighborsClassifier(n_neighbors=11)\n",
      "KNeighborsClassifier\n",
      ">>> For training data\n",
      "Label(s) that never appear in prediction:  set()\n",
      "arruracy, precision, recall, f1= (0.810126582278481, 0.8363377609108159, 0.748249299719888, 0.7669616519174042)\n",
      "\n",
      ">>> For testing data\n",
      "pred_y[:5] = [0. 0. 0. 1. 0.]\n",
      "Label(s) that never appear in prediction:  set()\n",
      "arruracy, precision, recall, f1 = 1.0000, 1.0000, 1.0000, 1.0000\n",
      "\n",
      "Training time:\t0.0010s\n",
      ">>> Model saved\n",
      "=========================\n",
      "\n",
      "average training time (s) = 0.0011612176895141602\n",
      "average arruracy \t= 0.9285714285714286\n",
      "average precision \t= 0.875\n",
      "average recall \t\t= 0.9583333333333334\n",
      "average f1 score \t= 0.8939393939393939\n"
     ]
    }
   ],
   "source": [
    "# Test the model with the training & testing data\n",
    "\n",
    "knn_models_test_info = testModels(knn_models, train_norm_x, train_y, test_norm_x, test_y, knn_training_times)\n"
   ]
  },
  {
   "cell_type": "markdown",
   "id": "fc0e8102",
   "metadata": {
    "ExecuteTime": {
     "end_time": "2021-10-14T17:38:41.592780Z",
     "start_time": "2021-10-14T17:38:36.213286Z"
    },
    "id": "fc0e8102"
   },
   "source": [
    "**Hidden code to compare performance of knn in raw and normalized data**\n",
    "\n",
    "<!-- \n",
    "```trainX_ls = [train_x, train_norm_x]\n",
    "testX_ls = [test_x, test_norm_x]\n",
    "data_types = ['raw', 'normalized']\n",
    "\n",
    "for trainX, testX, data_type in zip(trainX_ls, testX_ls, data_types):\n",
    "    print('\\n==================================')\n",
    "    print(data_type)\n",
    "    \n",
    "    n_neighbors = [1,3,5,7,11,21,31,41]\n",
    "    knn_models = [KNeighborsClassifier(n_neighbors=k) for k in n_neighbors]\n",
    "\n",
    "    # Train the model with the training data\n",
    "    knn_models, training_times = trainModels(knn_models, trainX, train_y)\n",
    "\n",
    "    # Test the model with the training & testing data\n",
    "    testKnnModels(knn_models, trainX, train_y, testX, test_y)\n",
    "```\n",
    " -->"
   ]
  },
  {
   "cell_type": "markdown",
   "id": "6dd25ce1",
   "metadata": {
    "id": "6dd25ce1"
   },
   "source": [
    "## Random Forest"
   ]
  },
  {
   "cell_type": "code",
   "execution_count": 24,
   "id": "7ec01447",
   "metadata": {
    "ExecuteTime": {
     "end_time": "2022-04-05T11:46:58.599473Z",
     "start_time": "2022-04-05T11:46:58.574525Z"
    },
    "executionInfo": {
     "elapsed": 18,
     "status": "ok",
     "timestamp": 1649158355625,
     "user": {
      "displayName": "msc work",
      "userId": "10004626043936594729"
     },
     "user_tz": -480
    },
    "id": "7ec01447"
   },
   "outputs": [],
   "source": [
    "# # Grid Search with Cross Validation\n",
    "# # Create the parameter grid based on the results of random search \n",
    "# param_grid = {\n",
    "# #     'bootstrap': [True],\n",
    "#     'max_depth': [None, 8, 10],\n",
    "# #     'max_features': [2, 3],\n",
    "# #     'min_samples_leaf': [1, 3, 4, 5],\n",
    "# #     'min_samples_split': [2, 8, 10, 12],\n",
    "#     'n_estimators': [50, 100, 150, 200, 250, 300, 1000]\n",
    "# }"
   ]
  },
  {
   "cell_type": "code",
   "execution_count": 25,
   "id": "95803075",
   "metadata": {
    "ExecuteTime": {
     "end_time": "2022-04-05T11:46:58.613701Z",
     "start_time": "2022-04-05T11:46:58.605747Z"
    },
    "executionInfo": {
     "elapsed": 16,
     "status": "ok",
     "timestamp": 1649158355627,
     "user": {
      "displayName": "msc work",
      "userId": "10004626043936594729"
     },
     "user_tz": -480
    },
    "id": "95803075"
   },
   "outputs": [],
   "source": [
    "# # Instantiate the grid search model\n",
    "# grid_search = GridSearchCV(estimator = RandomForestClassifier(), param_grid = param_grid, cv = 3, n_jobs = -1, verbose = 2)\n",
    "\n",
    "# # Fit the grid search to the data\n",
    "# grid_search.fit(train_x, train_y)\n",
    "# print('grid_search.best_params_ =', grid_search.best_params_)\n"
   ]
  },
  {
   "cell_type": "code",
   "execution_count": 26,
   "id": "b774d3b7",
   "metadata": {
    "ExecuteTime": {
     "end_time": "2022-04-05T11:46:58.625075Z",
     "start_time": "2022-04-05T11:46:58.618133Z"
    },
    "executionInfo": {
     "elapsed": 15,
     "status": "ok",
     "timestamp": 1649158355627,
     "user": {
      "displayName": "msc work",
      "userId": "10004626043936594729"
     },
     "user_tz": -480
    },
    "id": "b774d3b7"
   },
   "outputs": [],
   "source": [
    "# rf_best_grid = grid_search.best_estimator_\n",
    "# rf_best_grid.fit(train_x, train_y)\n",
    "\n",
    "# # Predict Response corresponding to Predictors\n",
    "# # y_train_pred = rf_best_grid.predict(X_train)\n",
    "# # y_test_pred = rf_best_grid.predict(X_test)\n",
    "\n",
    "# testModels([rf_best_grid], train_x, train_y, test_x, test_y, [0])"
   ]
  },
  {
   "cell_type": "code",
   "execution_count": 27,
   "id": "b9d4181e",
   "metadata": {
    "ExecuteTime": {
     "end_time": "2022-04-05T11:47:03.541071Z",
     "start_time": "2022-04-05T11:46:58.628164Z"
    },
    "colab": {
     "base_uri": "https://localhost:8080/"
    },
    "executionInfo": {
     "elapsed": 3610,
     "status": "ok",
     "timestamp": 1649158359223,
     "user": {
      "displayName": "msc work",
      "userId": "10004626043936594729"
     },
     "user_tz": -480
    },
    "id": "b9d4181e",
    "outputId": "fcdcd1a4-6880-4cac-d499-d493bf89f4fd"
   },
   "outputs": [
    {
     "name": "stdout",
     "output_type": "stream",
     "text": [
      "0.1984s elapsed during training\n",
      "0.6079s elapsed during training\n",
      "1.0374s elapsed during training\n",
      "1.4815s elapsed during training\n",
      "\n",
      "RandomForestClassifier(n_estimators=150)\n",
      "RandomForestClassifier\n",
      ">>> For training data\n",
      "Label(s) that never appear in prediction:  set()\n",
      "arruracy, precision, recall, f1= (1.0, 1.0, 1.0, 1.0)\n",
      "\n",
      ">>> For testing data\n",
      "pred_y[:5] = [0. 0. 0. 1. 0.]\n",
      "Label(s) that never appear in prediction:  set()\n",
      "arruracy, precision, recall, f1 = 1.0000, 1.0000, 1.0000, 1.0000\n",
      "\n",
      "Training time:\t0.1984s\n",
      ">>> Model saved\n",
      "=========================\n",
      "\n",
      "RandomForestClassifier(n_estimators=200)\n",
      "RandomForestClassifier\n",
      ">>> For training data\n",
      "Label(s) that never appear in prediction:  set()\n",
      "arruracy, precision, recall, f1= (1.0, 1.0, 1.0, 1.0)\n",
      "\n",
      ">>> For testing data\n",
      "pred_y[:5] = [0. 0. 0. 1. 0.]\n",
      "Label(s) that never appear in prediction:  set()\n",
      "arruracy, precision, recall, f1 = 1.0000, 1.0000, 1.0000, 1.0000\n",
      "\n",
      "Training time:\t0.6079s\n",
      ">>> Model saved\n",
      "=========================\n",
      "\n",
      "RandomForestClassifier(n_estimators=250)\n",
      "RandomForestClassifier\n",
      ">>> For training data\n",
      "Label(s) that never appear in prediction:  set()\n",
      "arruracy, precision, recall, f1= (1.0, 1.0, 1.0, 1.0)\n",
      "\n",
      ">>> For testing data\n",
      "pred_y[:5] = [0. 0. 0. 1. 0.]\n",
      "Label(s) that never appear in prediction:  set()\n",
      "arruracy, precision, recall, f1 = 1.0000, 1.0000, 1.0000, 1.0000\n",
      "\n",
      "Training time:\t1.0374s\n",
      ">>> Model saved\n",
      "=========================\n",
      "\n",
      "RandomForestClassifier(n_estimators=300)\n",
      "RandomForestClassifier\n",
      ">>> For training data\n",
      "Label(s) that never appear in prediction:  set()\n",
      "arruracy, precision, recall, f1= (1.0, 1.0, 1.0, 1.0)\n",
      "\n",
      ">>> For testing data\n",
      "pred_y[:5] = [0. 0. 0. 1. 0.]\n",
      "Label(s) that never appear in prediction:  set()\n",
      "arruracy, precision, recall, f1 = 1.0000, 1.0000, 1.0000, 1.0000\n",
      "\n",
      "Training time:\t1.4815s\n",
      ">>> Model saved\n",
      "=========================\n",
      "\n",
      "average training time (s) = 0.8313066959381104\n",
      "average arruracy \t= 1.0\n",
      "average precision \t= 1.0\n",
      "average recall \t\t= 1.0\n",
      "average f1 score \t= 1.0\n"
     ]
    }
   ],
   "source": [
    "n_estimators = [150, 200, 250, 300]\n",
    "\n",
    "# Random Forest using Train Data\n",
    "rforests = [RandomForestClassifier(n_estimators=n) \n",
    "            for n in n_estimators]\n",
    "\n",
    "# Train\n",
    "rforests, rforests_training_times = trainModels(rforests, train_x, train_y)\n",
    "print()\n",
    "\n",
    "# Test\n",
    "testModels(rforests, train_x, train_y, test_x, test_y, rforests_training_times)\n"
   ]
  },
  {
   "cell_type": "code",
   "execution_count": 28,
   "id": "7c37495d",
   "metadata": {
    "ExecuteTime": {
     "end_time": "2022-04-05T11:47:03.555007Z",
     "start_time": "2022-04-05T11:47:03.546915Z"
    },
    "colab": {
     "base_uri": "https://localhost:8080/"
    },
    "executionInfo": {
     "elapsed": 31,
     "status": "ok",
     "timestamp": 1649158359223,
     "user": {
      "displayName": "msc work",
      "userId": "10004626043936594729"
     },
     "user_tz": -480
    },
    "id": "7c37495d",
    "outputId": "86ccd225-9f2b-4305-b786-3696482f7629"
   },
   "outputs": [
    {
     "data": {
      "text/plain": [
       "('RandomForestClassifier', 150)"
      ]
     },
     "execution_count": 28,
     "metadata": {},
     "output_type": "execute_result"
    }
   ],
   "source": [
    "m = rforests[0]\n",
    "m.__class__.__name__ , m.n_estimators"
   ]
  },
  {
   "cell_type": "code",
   "execution_count": null,
   "id": "y06WhZh9HrPp",
   "metadata": {
    "executionInfo": {
     "elapsed": 25,
     "status": "ok",
     "timestamp": 1649158359224,
     "user": {
      "displayName": "msc work",
      "userId": "10004626043936594729"
     },
     "user_tz": -480
    },
    "id": "y06WhZh9HrPp"
   },
   "outputs": [],
   "source": []
  },
  {
   "cell_type": "markdown",
   "id": "SLmueYN_PkvO",
   "metadata": {
    "id": "SLmueYN_PkvO"
   },
   "source": [
    "# Compress `models/` folder\n"
   ]
  },
  {
   "cell_type": "code",
   "execution_count": 29,
   "id": "b56ea2eb",
   "metadata": {
    "ExecuteTime": {
     "end_time": "2022-04-05T11:47:03.815707Z",
     "start_time": "2022-04-05T11:47:03.566075Z"
    },
    "colab": {
     "base_uri": "https://localhost:8080/"
    },
    "executionInfo": {
     "elapsed": 24,
     "status": "ok",
     "timestamp": 1649158359225,
     "user": {
      "displayName": "msc work",
      "userId": "10004626043936594729"
     },
     "user_tz": -480
    },
    "id": "b56ea2eb",
    "outputId": "2b15e571-96f6-44c3-f892-a382d31b6912"
   },
   "outputs": [
    {
     "name": "stdout",
     "output_type": "stream",
     "text": [
      "updating: models/ (stored 0%)\n",
      "updating: models/dectree_entropy_5depth_1.000acc.joblib (deflated 56%)\n",
      "updating: models/rforest_250estimators_1.000acc.joblib (deflated 87%)\n",
      "updating: models/knn_11n_1.000acc.joblib (deflated 51%)\n",
      "updating: models/knn_1n_0.857acc.joblib (deflated 51%)\n",
      "updating: models/dectree_entropy_20depth_0.714acc.joblib (deflated 61%)\n",
      "updating: models/rforest_300estimators_1.000acc.joblib (deflated 87%)\n",
      "updating: models/knn_3n_0.857acc.joblib (deflated 51%)\n",
      "updating: models/dectree_entropy_15depth_0.714acc.joblib (deflated 60%)\n",
      "updating: models/dectree_entropy_10depth_0.714acc.joblib (deflated 60%)\n",
      "updating: models/rforest_200estimators_1.000acc.joblib (deflated 87%)\n",
      "updating: models/rforest_150estimators_1.000acc.joblib (deflated 87%)\n",
      "updating: models/knn_9n_1.000acc.joblib (deflated 51%)\n",
      "  adding: models/dectree_gini_15depth_0.857acc.joblib (deflated 60%)\n",
      "  adding: models/dectree_gini_10depth_0.857acc.joblib (deflated 60%)\n",
      "  adding: models/dectree_gini_5depth_1.000acc.joblib (deflated 57%)\n",
      "  adding: models/dectree_gini_20depth_1.000acc.joblib (deflated 57%)\n"
     ]
    }
   ],
   "source": [
    "!zip -r {folder_models}.zip {folder_models}"
   ]
  },
  {
   "cell_type": "code",
   "execution_count": 30,
   "id": "HjNlAyx1P_a9",
   "metadata": {
    "ExecuteTime": {
     "end_time": "2022-04-05T11:47:03.977990Z",
     "start_time": "2022-04-05T11:47:03.820525Z"
    },
    "colab": {
     "base_uri": "https://localhost:8080/"
    },
    "executionInfo": {
     "elapsed": 18,
     "status": "ok",
     "timestamp": 1649158359225,
     "user": {
      "displayName": "msc work",
      "userId": "10004626043936594729"
     },
     "user_tz": -480
    },
    "id": "HjNlAyx1P_a9",
    "outputId": "1c735cc1-a4eb-4a4b-fb07-4bdf34e666ef"
   },
   "outputs": [
    {
     "name": "stdout",
     "output_type": "stream",
     "text": [
      "20220405.19h47m\r\n"
     ]
    }
   ],
   "source": [
    "!echo \"$(TZ=':Asia/Hong_Kong' date +\"%Y%m%d.%Hh%Mm\")\""
   ]
  }
 ],
 "metadata": {
  "colab": {
   "collapsed_sections": [],
   "name": "1.1(done)-msbd5001-kaggle-decisionTree-knn-RF.ipynb",
   "provenance": [
    {
     "file_id": "1da9qXxGEMUD80ermqwodEnIRK08vzWBy",
     "timestamp": 1646987771292
    }
   ]
  },
  "kernelspec": {
   "display_name": "Python 3",
   "language": "python",
   "name": "python3"
  },
  "language_info": {
   "codemirror_mode": {
    "name": "ipython",
    "version": 3
   },
   "file_extension": ".py",
   "mimetype": "text/x-python",
   "name": "python",
   "nbconvert_exporter": "python",
   "pygments_lexer": "ipython3",
   "version": "3.8.8"
  },
  "toc": {
   "base_numbering": 1,
   "nav_menu": {},
   "number_sections": true,
   "sideBar": true,
   "skip_h1_title": false,
   "title_cell": "Table of Contents",
   "title_sidebar": "Contents",
   "toc_cell": false,
   "toc_position": {
    "height": "calc(100% - 180px)",
    "left": "10px",
    "top": "150px",
    "width": "305.455px"
   },
   "toc_section_display": true,
   "toc_window_display": true
  },
  "varInspector": {
   "cols": {
    "lenName": 16,
    "lenType": 16,
    "lenVar": 40
   },
   "kernels_config": {
    "python": {
     "delete_cmd_postfix": "",
     "delete_cmd_prefix": "del ",
     "library": "var_list.py",
     "varRefreshCmd": "print(var_dic_list())"
    },
    "r": {
     "delete_cmd_postfix": ") ",
     "delete_cmd_prefix": "rm(",
     "library": "var_list.r",
     "varRefreshCmd": "cat(var_dic_list()) "
    }
   },
   "types_to_exclude": [
    "module",
    "function",
    "builtin_function_or_method",
    "instance",
    "_Feature"
   ],
   "window_display": false
  }
 },
 "nbformat": 4,
 "nbformat_minor": 5
}
